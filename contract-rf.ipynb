{
 "cells": [
  {
   "cell_type": "code",
   "execution_count": 1,
   "metadata": {},
   "outputs": [],
   "source": [
    "from pathlib import Path\n",
    "from defi_lend_eval.modelling import contract"
   ]
  },
  {
   "cell_type": "code",
   "execution_count": 2,
   "metadata": {},
   "outputs": [
    {
     "data": {
      "text/plain": [
       "(19392, 17)"
      ]
     },
     "metadata": {},
     "output_type": "display_data"
    },
    {
     "data": {
      "text/plain": [
       "(19392, 17)"
      ]
     },
     "metadata": {},
     "output_type": "display_data"
    },
    {
     "data": {
      "text/html": [
       "<div>\n",
       "<style scoped>\n",
       "    .dataframe tbody tr th:only-of-type {\n",
       "        vertical-align: middle;\n",
       "    }\n",
       "\n",
       "    .dataframe tbody tr th {\n",
       "        vertical-align: top;\n",
       "    }\n",
       "\n",
       "    .dataframe thead th {\n",
       "        text-align: right;\n",
       "    }\n",
       "</style>\n",
       "<table border=\"1\" class=\"dataframe\">\n",
       "  <thead>\n",
       "    <tr style=\"text-align: right;\">\n",
       "      <th></th>\n",
       "      <th>commit</th>\n",
       "      <th>la</th>\n",
       "      <th>ld</th>\n",
       "      <th>ns</th>\n",
       "      <th>nd</th>\n",
       "      <th>nf</th>\n",
       "      <th>ent</th>\n",
       "      <th>nuc</th>\n",
       "      <th>ndev</th>\n",
       "      <th>inter</th>\n",
       "      <th>exp</th>\n",
       "      <th>rexp</th>\n",
       "      <th>sexp</th>\n",
       "      <th>pod</th>\n",
       "      <th>fix</th>\n",
       "      <th>buggy</th>\n",
       "      <th>plat</th>\n",
       "    </tr>\n",
       "  </thead>\n",
       "  <tbody>\n",
       "    <tr>\n",
       "      <th>0</th>\n",
       "      <td>ca96d695</td>\n",
       "      <td>966</td>\n",
       "      <td>37</td>\n",
       "      <td>3</td>\n",
       "      <td>7</td>\n",
       "      <td>14</td>\n",
       "      <td>1.332095</td>\n",
       "      <td>62</td>\n",
       "      <td>1</td>\n",
       "      <td>64.008765</td>\n",
       "      <td>210</td>\n",
       "      <td>0.029312</td>\n",
       "      <td>188</td>\n",
       "      <td>1.000000</td>\n",
       "      <td>False</td>\n",
       "      <td>False</td>\n",
       "      <td>88mph_matrix</td>\n",
       "    </tr>\n",
       "    <tr>\n",
       "      <th>1</th>\n",
       "      <td>1d02a6bb</td>\n",
       "      <td>7</td>\n",
       "      <td>7</td>\n",
       "      <td>3</td>\n",
       "      <td>4</td>\n",
       "      <td>5</td>\n",
       "      <td>1.220036</td>\n",
       "      <td>29</td>\n",
       "      <td>1</td>\n",
       "      <td>294.411611</td>\n",
       "      <td>117</td>\n",
       "      <td>0.004706</td>\n",
       "      <td>44</td>\n",
       "      <td>1.000000</td>\n",
       "      <td>False</td>\n",
       "      <td>False</td>\n",
       "      <td>88mph_matrix</td>\n",
       "    </tr>\n",
       "    <tr>\n",
       "      <th>2</th>\n",
       "      <td>33639778</td>\n",
       "      <td>24751</td>\n",
       "      <td>115</td>\n",
       "      <td>2</td>\n",
       "      <td>3</td>\n",
       "      <td>44</td>\n",
       "      <td>1.089848</td>\n",
       "      <td>39</td>\n",
       "      <td>2</td>\n",
       "      <td>569.835787</td>\n",
       "      <td>91</td>\n",
       "      <td>0.020129</td>\n",
       "      <td>26</td>\n",
       "      <td>0.487179</td>\n",
       "      <td>False</td>\n",
       "      <td>True</td>\n",
       "      <td>88mph_matrix</td>\n",
       "    </tr>\n",
       "    <tr>\n",
       "      <th>3</th>\n",
       "      <td>2383726a</td>\n",
       "      <td>3</td>\n",
       "      <td>1</td>\n",
       "      <td>1</td>\n",
       "      <td>1</td>\n",
       "      <td>1</td>\n",
       "      <td>0.026486</td>\n",
       "      <td>59</td>\n",
       "      <td>1</td>\n",
       "      <td>118.513333</td>\n",
       "      <td>152</td>\n",
       "      <td>0.402389</td>\n",
       "      <td>104</td>\n",
       "      <td>1.000000</td>\n",
       "      <td>True</td>\n",
       "      <td>False</td>\n",
       "      <td>88mph_matrix</td>\n",
       "    </tr>\n",
       "    <tr>\n",
       "      <th>4</th>\n",
       "      <td>d01b89b9</td>\n",
       "      <td>31</td>\n",
       "      <td>19</td>\n",
       "      <td>3</td>\n",
       "      <td>3</td>\n",
       "      <td>11</td>\n",
       "      <td>3.046779</td>\n",
       "      <td>10</td>\n",
       "      <td>1</td>\n",
       "      <td>16.237778</td>\n",
       "      <td>77</td>\n",
       "      <td>0.006936</td>\n",
       "      <td>26</td>\n",
       "      <td>1.000000</td>\n",
       "      <td>True</td>\n",
       "      <td>False</td>\n",
       "      <td>88mph_matrix</td>\n",
       "    </tr>\n",
       "  </tbody>\n",
       "</table>\n",
       "</div>"
      ],
      "text/plain": [
       "     commit     la   ld  ns  nd  nf       ent  nuc  ndev       inter  exp  \\\n",
       "0  ca96d695    966   37   3   7  14  1.332095   62     1   64.008765  210   \n",
       "1  1d02a6bb      7    7   3   4   5  1.220036   29     1  294.411611  117   \n",
       "2  33639778  24751  115   2   3  44  1.089848   39     2  569.835787   91   \n",
       "3  2383726a      3    1   1   1   1  0.026486   59     1  118.513333  152   \n",
       "4  d01b89b9     31   19   3   3  11  3.046779   10     1   16.237778   77   \n",
       "\n",
       "       rexp  sexp       pod    fix  buggy          plat  \n",
       "0  0.029312   188  1.000000  False  False  88mph_matrix  \n",
       "1  0.004706    44  1.000000  False  False  88mph_matrix  \n",
       "2  0.020129    26  0.487179  False   True  88mph_matrix  \n",
       "3  0.402389   104  1.000000   True  False  88mph_matrix  \n",
       "4  0.006936    26  1.000000   True  False  88mph_matrix  "
      ]
     },
     "execution_count": 2,
     "metadata": {},
     "output_type": "execute_result"
    }
   ],
   "source": [
    "\n",
    "p = Path('/mnt/d/projects/Defi-Lending-Evaluation/data/')\n",
    "fnames = contract.find_data_file(p)\n",
    "df = contract.read_data(fnames)\n",
    "display(df.shape)\n",
    "df = df.dropna()\n",
    "display(df.shape)\n",
    "df.head()"
   ]
  },
  {
   "cell_type": "code",
   "execution_count": 3,
   "metadata": {},
   "outputs": [
    {
     "data": {
      "text/plain": [
       "commit     object\n",
       "la          int64\n",
       "ld          int64\n",
       "ns          int64\n",
       "nd          int64\n",
       "nf          int64\n",
       "ent       float64\n",
       "nuc         int64\n",
       "ndev        int64\n",
       "inter     float64\n",
       "exp         int64\n",
       "rexp      float64\n",
       "sexp        int64\n",
       "pod       float64\n",
       "fix          bool\n",
       "buggy        bool\n",
       "plat       object\n",
       "dtype: object"
      ]
     },
     "execution_count": 3,
     "metadata": {},
     "output_type": "execute_result"
    }
   ],
   "source": [
    "df.dtypes"
   ]
  },
  {
   "cell_type": "code",
   "execution_count": 4,
   "metadata": {},
   "outputs": [
    {
     "data": {
      "text/html": [
       "<div>\n",
       "<style scoped>\n",
       "    .dataframe tbody tr th:only-of-type {\n",
       "        vertical-align: middle;\n",
       "    }\n",
       "\n",
       "    .dataframe tbody tr th {\n",
       "        vertical-align: top;\n",
       "    }\n",
       "\n",
       "    .dataframe thead th {\n",
       "        text-align: right;\n",
       "    }\n",
       "</style>\n",
       "<table border=\"1\" class=\"dataframe\">\n",
       "  <thead>\n",
       "    <tr style=\"text-align: right;\">\n",
       "      <th></th>\n",
       "      <th>la</th>\n",
       "      <th>ld</th>\n",
       "      <th>ns</th>\n",
       "      <th>nd</th>\n",
       "      <th>nf</th>\n",
       "      <th>ent</th>\n",
       "      <th>nuc</th>\n",
       "      <th>ndev</th>\n",
       "      <th>inter</th>\n",
       "      <th>exp</th>\n",
       "      <th>rexp</th>\n",
       "      <th>sexp</th>\n",
       "      <th>pod</th>\n",
       "    </tr>\n",
       "  </thead>\n",
       "  <tbody>\n",
       "    <tr>\n",
       "      <th>count</th>\n",
       "      <td>19392.000000</td>\n",
       "      <td>19392.000000</td>\n",
       "      <td>19392.000000</td>\n",
       "      <td>19392.000000</td>\n",
       "      <td>19392.000000</td>\n",
       "      <td>19392.000000</td>\n",
       "      <td>19392.000000</td>\n",
       "      <td>19392.000000</td>\n",
       "      <td>19392.000000</td>\n",
       "      <td>19392.000000</td>\n",
       "      <td>19392.000000</td>\n",
       "      <td>19392.000000</td>\n",
       "      <td>19392.000000</td>\n",
       "    </tr>\n",
       "    <tr>\n",
       "      <th>mean</th>\n",
       "      <td>684.168626</td>\n",
       "      <td>10.832766</td>\n",
       "      <td>1.462304</td>\n",
       "      <td>2.291409</td>\n",
       "      <td>4.540171</td>\n",
       "      <td>0.664470</td>\n",
       "      <td>80.272535</td>\n",
       "      <td>5.390316</td>\n",
       "      <td>272.133537</td>\n",
       "      <td>247.492162</td>\n",
       "      <td>0.257154</td>\n",
       "      <td>134.928785</td>\n",
       "      <td>0.460632</td>\n",
       "    </tr>\n",
       "    <tr>\n",
       "      <th>std</th>\n",
       "      <td>5971.473919</td>\n",
       "      <td>41.170533</td>\n",
       "      <td>0.946794</td>\n",
       "      <td>3.087003</td>\n",
       "      <td>13.380691</td>\n",
       "      <td>2.532073</td>\n",
       "      <td>141.699653</td>\n",
       "      <td>5.229826</td>\n",
       "      <td>723.060757</td>\n",
       "      <td>432.260136</td>\n",
       "      <td>0.516910</td>\n",
       "      <td>290.362055</td>\n",
       "      <td>0.378908</td>\n",
       "    </tr>\n",
       "    <tr>\n",
       "      <th>min</th>\n",
       "      <td>0.000000</td>\n",
       "      <td>0.000000</td>\n",
       "      <td>0.000000</td>\n",
       "      <td>0.000000</td>\n",
       "      <td>0.000000</td>\n",
       "      <td>-29.378968</td>\n",
       "      <td>0.000000</td>\n",
       "      <td>0.000000</td>\n",
       "      <td>-2155.811389</td>\n",
       "      <td>0.000000</td>\n",
       "      <td>-16.641403</td>\n",
       "      <td>0.000000</td>\n",
       "      <td>0.000000</td>\n",
       "    </tr>\n",
       "    <tr>\n",
       "      <th>25%</th>\n",
       "      <td>3.000000</td>\n",
       "      <td>1.000000</td>\n",
       "      <td>1.000000</td>\n",
       "      <td>1.000000</td>\n",
       "      <td>1.000000</td>\n",
       "      <td>0.067497</td>\n",
       "      <td>9.000000</td>\n",
       "      <td>2.000000</td>\n",
       "      <td>1.059792</td>\n",
       "      <td>21.000000</td>\n",
       "      <td>0.007126</td>\n",
       "      <td>8.000000</td>\n",
       "      <td>0.090909</td>\n",
       "    </tr>\n",
       "    <tr>\n",
       "      <th>50%</th>\n",
       "      <td>19.000000</td>\n",
       "      <td>4.000000</td>\n",
       "      <td>1.000000</td>\n",
       "      <td>1.000000</td>\n",
       "      <td>2.000000</td>\n",
       "      <td>0.248694</td>\n",
       "      <td>30.000000</td>\n",
       "      <td>4.000000</td>\n",
       "      <td>31.551667</td>\n",
       "      <td>87.000000</td>\n",
       "      <td>0.049841</td>\n",
       "      <td>35.000000</td>\n",
       "      <td>0.387097</td>\n",
       "    </tr>\n",
       "    <tr>\n",
       "      <th>75%</th>\n",
       "      <td>87.000000</td>\n",
       "      <td>9.000000</td>\n",
       "      <td>2.000000</td>\n",
       "      <td>2.000000</td>\n",
       "      <td>4.000000</td>\n",
       "      <td>0.590007</td>\n",
       "      <td>87.000000</td>\n",
       "      <td>7.000000</td>\n",
       "      <td>210.423438</td>\n",
       "      <td>275.000000</td>\n",
       "      <td>0.315467</td>\n",
       "      <td>112.000000</td>\n",
       "      <td>0.885917</td>\n",
       "    </tr>\n",
       "    <tr>\n",
       "      <th>max</th>\n",
       "      <td>486679.000000</td>\n",
       "      <td>1685.000000</td>\n",
       "      <td>12.000000</td>\n",
       "      <td>113.000000</td>\n",
       "      <td>479.000000</td>\n",
       "      <td>126.526839</td>\n",
       "      <td>1989.000000</td>\n",
       "      <td>41.000000</td>\n",
       "      <td>18159.963056</td>\n",
       "      <td>2507.000000</td>\n",
       "      <td>19.021532</td>\n",
       "      <td>2292.000000</td>\n",
       "      <td>1.000000</td>\n",
       "    </tr>\n",
       "  </tbody>\n",
       "</table>\n",
       "</div>"
      ],
      "text/plain": [
       "                  la            ld            ns            nd            nf  \\\n",
       "count   19392.000000  19392.000000  19392.000000  19392.000000  19392.000000   \n",
       "mean      684.168626     10.832766      1.462304      2.291409      4.540171   \n",
       "std      5971.473919     41.170533      0.946794      3.087003     13.380691   \n",
       "min         0.000000      0.000000      0.000000      0.000000      0.000000   \n",
       "25%         3.000000      1.000000      1.000000      1.000000      1.000000   \n",
       "50%        19.000000      4.000000      1.000000      1.000000      2.000000   \n",
       "75%        87.000000      9.000000      2.000000      2.000000      4.000000   \n",
       "max    486679.000000   1685.000000     12.000000    113.000000    479.000000   \n",
       "\n",
       "                ent           nuc          ndev         inter           exp  \\\n",
       "count  19392.000000  19392.000000  19392.000000  19392.000000  19392.000000   \n",
       "mean       0.664470     80.272535      5.390316    272.133537    247.492162   \n",
       "std        2.532073    141.699653      5.229826    723.060757    432.260136   \n",
       "min      -29.378968      0.000000      0.000000  -2155.811389      0.000000   \n",
       "25%        0.067497      9.000000      2.000000      1.059792     21.000000   \n",
       "50%        0.248694     30.000000      4.000000     31.551667     87.000000   \n",
       "75%        0.590007     87.000000      7.000000    210.423438    275.000000   \n",
       "max      126.526839   1989.000000     41.000000  18159.963056   2507.000000   \n",
       "\n",
       "               rexp          sexp           pod  \n",
       "count  19392.000000  19392.000000  19392.000000  \n",
       "mean       0.257154    134.928785      0.460632  \n",
       "std        0.516910    290.362055      0.378908  \n",
       "min      -16.641403      0.000000      0.000000  \n",
       "25%        0.007126      8.000000      0.090909  \n",
       "50%        0.049841     35.000000      0.387097  \n",
       "75%        0.315467    112.000000      0.885917  \n",
       "max       19.021532   2292.000000      1.000000  "
      ]
     },
     "execution_count": 4,
     "metadata": {},
     "output_type": "execute_result"
    }
   ],
   "source": [
    "df.describe()"
   ]
  },
  {
   "cell_type": "code",
   "execution_count": 5,
   "metadata": {},
   "outputs": [
    {
     "data": {
      "text/plain": [
       "False    18163\n",
       "True      1229\n",
       "Name: buggy, dtype: int64"
      ]
     },
     "execution_count": 5,
     "metadata": {},
     "output_type": "execute_result"
    },
    {
     "data": {
      "image/png": "[encoded data removed]",
      "text/plain": [
       "<Figure size 720x576 with 1 Axes>"
      ]
     },
     "metadata": {
      "needs_background": "light"
     },
     "output_type": "display_data"
    }
   ],
   "source": [
    "from matplotlib import pyplot as plt\n",
    "plt.figure(figsize=(10, 8))\n",
    "ax = df['buggy'].value_counts().plot.bar()\n",
    "df['buggy'].value_counts()"
   ]
  },
  {
   "cell_type": "code",
   "execution_count": 6,
   "metadata": {},
   "outputs": [
    {
     "data": {
      "image/png": "[encoded data removed]",
      "text/plain": [
       "<Figure size 576x432 with 1 Axes>"
      ]
     },
     "metadata": {
      "needs_background": "light"
     },
     "output_type": "display_data"
    },
    {
     "data": {
      "image/png": "[encoded data removed]",
      "text/plain": [
       "<Figure size 576x432 with 1 Axes>"
      ]
     },
     "metadata": {
      "needs_background": "light"
     },
     "output_type": "display_data"
    },
    {
     "data": {
      "image/png": "[encoded data removed]",
      "text/plain": [
       "<Figure size 576x432 with 1 Axes>"
      ]
     },
     "metadata": {
      "needs_background": "light"
     },
     "output_type": "display_data"
    },
    {
     "data": {
      "image/png": "[encoded data removed]",
      "text/plain": [
       "<Figure size 576x432 with 1 Axes>"
      ]
     },
     "metadata": {
      "needs_background": "light"
     },
     "output_type": "display_data"
    },
    {
     "data": {
      "image/png": "[encoded data removed]",
      "text/plain": [
       "<Figure size 576x432 with 1 Axes>"
      ]
     },
     "metadata": {
      "needs_background": "light"
     },
     "output_type": "display_data"
    },
    {
     "data": {
      "image/png": "[encoded data removed]",
      "text/plain": [
       "<Figure size 576x432 with 1 Axes>"
      ]
     },
     "metadata": {
      "needs_background": "light"
     },
     "output_type": "display_data"
    },
    {
     "data": {
      "image/png": "[encoded data removed]",
      "text/plain": [
       "<Figure size 576x432 with 1 Axes>"
      ]
     },
     "metadata": {
      "needs_background": "light"
     },
     "output_type": "display_data"
    },
    {
     "data": {
      "image/png": "[encoded data removed]",
      "text/plain": [
       "<Figure size 576x432 with 1 Axes>"
      ]
     },
     "metadata": {
      "needs_background": "light"
     },
     "output_type": "display_data"
    },
    {
     "data": {
      "image/png": "[encoded data removed]",
      "text/plain": [
       "<Figure size 576x432 with 1 Axes>"
      ]
     },
     "metadata": {
      "needs_background": "light"
     },
     "output_type": "display_data"
    },
    {
     "data": {
      "image/png": "[encoded data removed]",
      "text/plain": [
       "<Figure size 576x432 with 1 Axes>"
      ]
     },
     "metadata": {
      "needs_background": "light"
     },
     "output_type": "display_data"
    },
    {
     "data": {
      "image/png": "[encoded data removed]",
      "text/plain": [
       "<Figure size 576x432 with 1 Axes>"
      ]
     },
     "metadata": {
      "needs_background": "light"
     },
     "output_type": "display_data"
    },
    {
     "data": {
      "image/png": "[encoded data removed]",
      "text/plain": [
       "<Figure size 576x432 with 1 Axes>"
      ]
     },
     "metadata": {
      "needs_background": "light"
     },
     "output_type": "display_data"
    },
    {
     "data": {
      "image/png": "[encoded data removed]",
      "text/plain": [
       "<Figure size 576x432 with 1 Axes>"
      ]
     },
     "metadata": {
      "needs_background": "light"
     },
     "output_type": "display_data"
    }
   ],
   "source": [
    "for col in df:\n",
    "    if col in ['commit', 'fix', 'buggy', 'plat']:\n",
    "        continue\n",
    "    plt.figure(figsize=(8, 6))\n",
    "    ax = df.boxplot([col])\n",
    "    ax.set_yscale('log')"
   ]
  },
  {
   "cell_type": "code",
   "execution_count": 7,
   "metadata": {},
   "outputs": [
    {
     "data": {
      "text/plain": [
       "29755.47999999905"
      ]
     },
     "metadata": {},
     "output_type": "display_data"
    },
    {
     "data": {
      "text/plain": [
       "(19392, 17)"
      ]
     },
     "metadata": {},
     "output_type": "display_data"
    },
    {
     "data": {
      "text/plain": [
       "(19392, 17)"
      ]
     },
     "metadata": {},
     "output_type": "display_data"
    }
   ],
   "source": [
    "# remove commit with too many added lines, since those changes may mainly due to\n",
    "# the modification of configurations files (like json, yaml, and so on.)\n",
    "q99 = df['la'].quantile(0.995)\n",
    "display(q99)\n",
    "# df1 = df[df['la'] < q99]\n",
    "df1 = df\n",
    "display(df.shape)\n",
    "display(df1.shape)"
   ]
  },
  {
   "cell_type": "code",
   "execution_count": 8,
   "metadata": {},
   "outputs": [
    {
     "data": {
      "image/png": "[encoded data removed]",
      "text/plain": [
       "<Figure size 576x432 with 1 Axes>"
      ]
     },
     "metadata": {
      "needs_background": "light"
     },
     "output_type": "display_data"
    },
    {
     "data": {
      "image/png": "[encoded data removed]",
      "text/plain": [
       "<Figure size 576x432 with 1 Axes>"
      ]
     },
     "metadata": {
      "needs_background": "light"
     },
     "output_type": "display_data"
    },
    {
     "data": {
      "image/png": "[encoded data removed]",
      "text/plain": [
       "<Figure size 576x432 with 1 Axes>"
      ]
     },
     "metadata": {
      "needs_background": "light"
     },
     "output_type": "display_data"
    },
    {
     "data": {
      "image/png": "[encoded data removed]",
      "text/plain": [
       "<Figure size 576x432 with 1 Axes>"
      ]
     },
     "metadata": {
      "needs_background": "light"
     },
     "output_type": "display_data"
    },
    {
     "data": {
      "image/png": "[encoded data removed]",
      "text/plain": [
       "<Figure size 576x432 with 1 Axes>"
      ]
     },
     "metadata": {
      "needs_background": "light"
     },
     "output_type": "display_data"
    },
    {
     "data": {
      "image/png": "[encoded data removed]",
      "text/plain": [
       "<Figure size 576x432 with 1 Axes>"
      ]
     },
     "metadata": {
      "needs_background": "light"
     },
     "output_type": "display_data"
    },
    {
     "data": {
      "image/png": "[encoded data removed]",
      "text/plain": [
       "<Figure size 576x432 with 1 Axes>"
      ]
     },
     "metadata": {
      "needs_background": "light"
     },
     "output_type": "display_data"
    },
    {
     "data": {
      "image/png": "[encoded data removed]",
      "text/plain": [
       "<Figure size 576x432 with 1 Axes>"
      ]
     },
     "metadata": {
      "needs_background": "light"
     },
     "output_type": "display_data"
    },
    {
     "data": {
      "image/png": "[encoded data removed]",
      "text/plain": [
       "<Figure size 576x432 with 1 Axes>"
      ]
     },
     "metadata": {
      "needs_background": "light"
     },
     "output_type": "display_data"
    },
    {
     "data": {
      "image/png": "[encoded data removed]",
      "text/plain": [
       "<Figure size 576x432 with 1 Axes>"
      ]
     },
     "metadata": {
      "needs_background": "light"
     },
     "output_type": "display_data"
    },
    {
     "data": {
      "image/png": "[encoded data removed]",
      "text/plain": [
       "<Figure size 576x432 with 1 Axes>"
      ]
     },
     "metadata": {
      "needs_background": "light"
     },
     "output_type": "display_data"
    },
    {
     "data": {
      "image/png": "[encoded data removed]",
      "text/plain": [
       "<Figure size 576x432 with 1 Axes>"
      ]
     },
     "metadata": {
      "needs_background": "light"
     },
     "output_type": "display_data"
    },
    {
     "data": {
      "image/png": "[encoded data removed]",
      "text/plain": [
       "<Figure size 576x432 with 1 Axes>"
      ]
     },
     "metadata": {
      "needs_background": "light"
     },
     "output_type": "display_data"
    }
   ],
   "source": [
    "for col in df1:\n",
    "    if col in ['commit', 'fix', 'buggy', 'plat']:\n",
    "        continue\n",
    "    plt.figure(figsize=(8, 6))\n",
    "    ax = df1.boxplot([col])\n",
    "    ax.set_yscale('log') "
   ]
  },
  {
   "cell_type": "code",
   "execution_count": 9,
   "metadata": {},
   "outputs": [
    {
     "data": {
      "text/plain": [
       "False    18163\n",
       "True      1229\n",
       "Name: buggy, dtype: int64"
      ]
     },
     "execution_count": 9,
     "metadata": {},
     "output_type": "execute_result"
    }
   ],
   "source": [
    "df1['buggy'].value_counts()"
   ]
  },
  {
   "cell_type": "code",
   "execution_count": 10,
   "metadata": {},
   "outputs": [],
   "source": [
    "from sklearn.model_selection import train_test_split\n",
    "\n",
    "train, test = train_test_split(df1, test_size=0.3, random_state=28)\n"
   ]
  },
  {
   "cell_type": "code",
   "execution_count": 11,
   "metadata": {},
   "outputs": [
    {
     "data": {
      "text/plain": [
       "False    5447\n",
       "True      371\n",
       "Name: buggy, dtype: int64"
      ]
     },
     "metadata": {},
     "output_type": "display_data"
    },
    {
     "data": {
      "text/plain": [
       "False    12716\n",
       "True       858\n",
       "Name: buggy, dtype: int64"
      ]
     },
     "metadata": {},
     "output_type": "display_data"
    }
   ],
   "source": [
    "display(test['buggy'].value_counts())\n",
    "display(train['buggy'].value_counts())"
   ]
  },
  {
   "cell_type": "code",
   "execution_count": 12,
   "metadata": {},
   "outputs": [
    {
     "data": {
      "text/html": [
       "<div>\n",
       "<style scoped>\n",
       "    .dataframe tbody tr th:only-of-type {\n",
       "        vertical-align: middle;\n",
       "    }\n",
       "\n",
       "    .dataframe tbody tr th {\n",
       "        vertical-align: top;\n",
       "    }\n",
       "\n",
       "    .dataframe thead th {\n",
       "        text-align: right;\n",
       "    }\n",
       "</style>\n",
       "<table border=\"1\" class=\"dataframe\">\n",
       "  <thead>\n",
       "    <tr style=\"text-align: right;\">\n",
       "      <th></th>\n",
       "      <th>la</th>\n",
       "      <th>ld</th>\n",
       "      <th>ns</th>\n",
       "      <th>nd</th>\n",
       "      <th>nf</th>\n",
       "      <th>ent</th>\n",
       "      <th>nuc</th>\n",
       "      <th>ndev</th>\n",
       "      <th>inter</th>\n",
       "      <th>exp</th>\n",
       "      <th>rexp</th>\n",
       "      <th>sexp</th>\n",
       "      <th>pod</th>\n",
       "      <th>fix</th>\n",
       "    </tr>\n",
       "  </thead>\n",
       "  <tbody>\n",
       "    <tr>\n",
       "      <th>3204</th>\n",
       "      <td>29</td>\n",
       "      <td>1</td>\n",
       "      <td>1</td>\n",
       "      <td>1</td>\n",
       "      <td>3</td>\n",
       "      <td>0.191040</td>\n",
       "      <td>7</td>\n",
       "      <td>1</td>\n",
       "      <td>65.614444</td>\n",
       "      <td>125</td>\n",
       "      <td>0.009652</td>\n",
       "      <td>48</td>\n",
       "      <td>1.000000</td>\n",
       "      <td>False</td>\n",
       "    </tr>\n",
       "    <tr>\n",
       "      <th>17290</th>\n",
       "      <td>97</td>\n",
       "      <td>24</td>\n",
       "      <td>2</td>\n",
       "      <td>2</td>\n",
       "      <td>4</td>\n",
       "      <td>0.215775</td>\n",
       "      <td>61</td>\n",
       "      <td>2</td>\n",
       "      <td>0.373333</td>\n",
       "      <td>162</td>\n",
       "      <td>1.672678</td>\n",
       "      <td>148</td>\n",
       "      <td>0.885246</td>\n",
       "      <td>True</td>\n",
       "    </tr>\n",
       "    <tr>\n",
       "      <th>1296</th>\n",
       "      <td>198</td>\n",
       "      <td>90</td>\n",
       "      <td>2</td>\n",
       "      <td>8</td>\n",
       "      <td>19</td>\n",
       "      <td>3.759673</td>\n",
       "      <td>352</td>\n",
       "      <td>8</td>\n",
       "      <td>29.971944</td>\n",
       "      <td>111</td>\n",
       "      <td>0.014614</td>\n",
       "      <td>85</td>\n",
       "      <td>0.130682</td>\n",
       "      <td>False</td>\n",
       "    </tr>\n",
       "    <tr>\n",
       "      <th>15924</th>\n",
       "      <td>10</td>\n",
       "      <td>5</td>\n",
       "      <td>1</td>\n",
       "      <td>1</td>\n",
       "      <td>3</td>\n",
       "      <td>0.761805</td>\n",
       "      <td>11</td>\n",
       "      <td>3</td>\n",
       "      <td>275.719352</td>\n",
       "      <td>11</td>\n",
       "      <td>0.003391</td>\n",
       "      <td>11</td>\n",
       "      <td>0.272727</td>\n",
       "      <td>False</td>\n",
       "    </tr>\n",
       "    <tr>\n",
       "      <th>15133</th>\n",
       "      <td>72</td>\n",
       "      <td>19</td>\n",
       "      <td>1</td>\n",
       "      <td>5</td>\n",
       "      <td>7</td>\n",
       "      <td>1.074632</td>\n",
       "      <td>139</td>\n",
       "      <td>8</td>\n",
       "      <td>79.992778</td>\n",
       "      <td>35</td>\n",
       "      <td>0.006342</td>\n",
       "      <td>15</td>\n",
       "      <td>0.093525</td>\n",
       "      <td>False</td>\n",
       "    </tr>\n",
       "    <tr>\n",
       "      <th>...</th>\n",
       "      <td>...</td>\n",
       "      <td>...</td>\n",
       "      <td>...</td>\n",
       "      <td>...</td>\n",
       "      <td>...</td>\n",
       "      <td>...</td>\n",
       "      <td>...</td>\n",
       "      <td>...</td>\n",
       "      <td>...</td>\n",
       "      <td>...</td>\n",
       "      <td>...</td>\n",
       "      <td>...</td>\n",
       "      <td>...</td>\n",
       "      <td>...</td>\n",
       "    </tr>\n",
       "    <tr>\n",
       "      <th>16471</th>\n",
       "      <td>62</td>\n",
       "      <td>34</td>\n",
       "      <td>1</td>\n",
       "      <td>8</td>\n",
       "      <td>11</td>\n",
       "      <td>0.572978</td>\n",
       "      <td>217</td>\n",
       "      <td>7</td>\n",
       "      <td>381.402298</td>\n",
       "      <td>245</td>\n",
       "      <td>0.007802</td>\n",
       "      <td>55</td>\n",
       "      <td>0.387097</td>\n",
       "      <td>True</td>\n",
       "    </tr>\n",
       "    <tr>\n",
       "      <th>7427</th>\n",
       "      <td>2</td>\n",
       "      <td>2</td>\n",
       "      <td>1</td>\n",
       "      <td>1</td>\n",
       "      <td>2</td>\n",
       "      <td>0.072554</td>\n",
       "      <td>230</td>\n",
       "      <td>13</td>\n",
       "      <td>172.539444</td>\n",
       "      <td>95</td>\n",
       "      <td>0.003899</td>\n",
       "      <td>95</td>\n",
       "      <td>0.413043</td>\n",
       "      <td>False</td>\n",
       "    </tr>\n",
       "    <tr>\n",
       "      <th>7200</th>\n",
       "      <td>24</td>\n",
       "      <td>4</td>\n",
       "      <td>1</td>\n",
       "      <td>1</td>\n",
       "      <td>1</td>\n",
       "      <td>0.081117</td>\n",
       "      <td>252</td>\n",
       "      <td>13</td>\n",
       "      <td>153.171111</td>\n",
       "      <td>451</td>\n",
       "      <td>0.004059</td>\n",
       "      <td>261</td>\n",
       "      <td>0.353175</td>\n",
       "      <td>False</td>\n",
       "    </tr>\n",
       "    <tr>\n",
       "      <th>4089</th>\n",
       "      <td>0</td>\n",
       "      <td>2</td>\n",
       "      <td>1</td>\n",
       "      <td>1</td>\n",
       "      <td>1</td>\n",
       "      <td>0.000000</td>\n",
       "      <td>48</td>\n",
       "      <td>8</td>\n",
       "      <td>0.058889</td>\n",
       "      <td>20</td>\n",
       "      <td>1.089411</td>\n",
       "      <td>20</td>\n",
       "      <td>0.250000</td>\n",
       "      <td>False</td>\n",
       "    </tr>\n",
       "    <tr>\n",
       "      <th>9473</th>\n",
       "      <td>249</td>\n",
       "      <td>87</td>\n",
       "      <td>3</td>\n",
       "      <td>5</td>\n",
       "      <td>24</td>\n",
       "      <td>3.611272</td>\n",
       "      <td>200</td>\n",
       "      <td>6</td>\n",
       "      <td>1663.692543</td>\n",
       "      <td>151</td>\n",
       "      <td>0.015454</td>\n",
       "      <td>95</td>\n",
       "      <td>0.105000</td>\n",
       "      <td>False</td>\n",
       "    </tr>\n",
       "  </tbody>\n",
       "</table>\n",
       "<p>13574 rows × 14 columns</p>\n",
       "</div>"
      ],
      "text/plain": [
       "        la  ld  ns  nd  nf       ent  nuc  ndev        inter  exp      rexp  \\\n",
       "3204    29   1   1   1   3  0.191040    7     1    65.614444  125  0.009652   \n",
       "17290   97  24   2   2   4  0.215775   61     2     0.373333  162  1.672678   \n",
       "1296   198  90   2   8  19  3.759673  352     8    29.971944  111  0.014614   \n",
       "15924   10   5   1   1   3  0.761805   11     3   275.719352   11  0.003391   \n",
       "15133   72  19   1   5   7  1.074632  139     8    79.992778   35  0.006342   \n",
       "...    ...  ..  ..  ..  ..       ...  ...   ...          ...  ...       ...   \n",
       "16471   62  34   1   8  11  0.572978  217     7   381.402298  245  0.007802   \n",
       "7427     2   2   1   1   2  0.072554  230    13   172.539444   95  0.003899   \n",
       "7200    24   4   1   1   1  0.081117  252    13   153.171111  451  0.004059   \n",
       "4089     0   2   1   1   1  0.000000   48     8     0.058889   20  1.089411   \n",
       "9473   249  87   3   5  24  3.611272  200     6  1663.692543  151  0.015454   \n",
       "\n",
       "       sexp       pod    fix  \n",
       "3204     48  1.000000  False  \n",
       "17290   148  0.885246   True  \n",
       "1296     85  0.130682  False  \n",
       "15924    11  0.272727  False  \n",
       "15133    15  0.093525  False  \n",
       "...     ...       ...    ...  \n",
       "16471    55  0.387097   True  \n",
       "7427     95  0.413043  False  \n",
       "7200    261  0.353175  False  \n",
       "4089     20  0.250000  False  \n",
       "9473     95  0.105000  False  \n",
       "\n",
       "[13574 rows x 14 columns]"
      ]
     },
     "metadata": {},
     "output_type": "display_data"
    },
    {
     "data": {
      "text/plain": [
       "3204      True\n",
       "17290    False\n",
       "1296     False\n",
       "15924    False\n",
       "15133    False\n",
       "         ...  \n",
       "16471    False\n",
       "7427     False\n",
       "7200     False\n",
       "4089     False\n",
       "9473     False\n",
       "Name: buggy, Length: 13574, dtype: bool"
      ]
     },
     "execution_count": 12,
     "metadata": {},
     "output_type": "execute_result"
    }
   ],
   "source": [
    "train_x = train.drop(['commit', 'buggy', 'plat'], axis=1)\n",
    "train_y = train['buggy']\n",
    "display(train_x)\n",
    "train_y"
   ]
  },
  {
   "cell_type": "code",
   "execution_count": 13,
   "metadata": {},
   "outputs": [
    {
     "data": {
      "text/plain": [
       "(25432, 14)"
      ]
     },
     "metadata": {},
     "output_type": "display_data"
    },
    {
     "data": {
      "text/html": [
       "<div>\n",
       "<style scoped>\n",
       "    .dataframe tbody tr th:only-of-type {\n",
       "        vertical-align: middle;\n",
       "    }\n",
       "\n",
       "    .dataframe tbody tr th {\n",
       "        vertical-align: top;\n",
       "    }\n",
       "\n",
       "    .dataframe thead th {\n",
       "        text-align: right;\n",
       "    }\n",
       "</style>\n",
       "<table border=\"1\" class=\"dataframe\">\n",
       "  <thead>\n",
       "    <tr style=\"text-align: right;\">\n",
       "      <th></th>\n",
       "      <th>la</th>\n",
       "      <th>ld</th>\n",
       "      <th>ns</th>\n",
       "      <th>nd</th>\n",
       "      <th>nf</th>\n",
       "      <th>ent</th>\n",
       "      <th>nuc</th>\n",
       "      <th>ndev</th>\n",
       "      <th>inter</th>\n",
       "      <th>exp</th>\n",
       "      <th>rexp</th>\n",
       "      <th>sexp</th>\n",
       "      <th>pod</th>\n",
       "      <th>fix</th>\n",
       "    </tr>\n",
       "  </thead>\n",
       "  <tbody>\n",
       "    <tr>\n",
       "      <th>0</th>\n",
       "      <td>29</td>\n",
       "      <td>1</td>\n",
       "      <td>1</td>\n",
       "      <td>1</td>\n",
       "      <td>3</td>\n",
       "      <td>0.191040</td>\n",
       "      <td>7</td>\n",
       "      <td>1</td>\n",
       "      <td>65.614444</td>\n",
       "      <td>125</td>\n",
       "      <td>0.009652</td>\n",
       "      <td>48</td>\n",
       "      <td>1.000000</td>\n",
       "      <td>False</td>\n",
       "    </tr>\n",
       "    <tr>\n",
       "      <th>1</th>\n",
       "      <td>97</td>\n",
       "      <td>24</td>\n",
       "      <td>2</td>\n",
       "      <td>2</td>\n",
       "      <td>4</td>\n",
       "      <td>0.215775</td>\n",
       "      <td>61</td>\n",
       "      <td>2</td>\n",
       "      <td>0.373333</td>\n",
       "      <td>162</td>\n",
       "      <td>1.672678</td>\n",
       "      <td>148</td>\n",
       "      <td>0.885246</td>\n",
       "      <td>True</td>\n",
       "    </tr>\n",
       "    <tr>\n",
       "      <th>2</th>\n",
       "      <td>198</td>\n",
       "      <td>90</td>\n",
       "      <td>2</td>\n",
       "      <td>8</td>\n",
       "      <td>19</td>\n",
       "      <td>3.759673</td>\n",
       "      <td>352</td>\n",
       "      <td>8</td>\n",
       "      <td>29.971944</td>\n",
       "      <td>111</td>\n",
       "      <td>0.014614</td>\n",
       "      <td>85</td>\n",
       "      <td>0.130682</td>\n",
       "      <td>False</td>\n",
       "    </tr>\n",
       "    <tr>\n",
       "      <th>3</th>\n",
       "      <td>10</td>\n",
       "      <td>5</td>\n",
       "      <td>1</td>\n",
       "      <td>1</td>\n",
       "      <td>3</td>\n",
       "      <td>0.761805</td>\n",
       "      <td>11</td>\n",
       "      <td>3</td>\n",
       "      <td>275.719352</td>\n",
       "      <td>11</td>\n",
       "      <td>0.003391</td>\n",
       "      <td>11</td>\n",
       "      <td>0.272727</td>\n",
       "      <td>False</td>\n",
       "    </tr>\n",
       "    <tr>\n",
       "      <th>4</th>\n",
       "      <td>72</td>\n",
       "      <td>19</td>\n",
       "      <td>1</td>\n",
       "      <td>5</td>\n",
       "      <td>7</td>\n",
       "      <td>1.074632</td>\n",
       "      <td>139</td>\n",
       "      <td>8</td>\n",
       "      <td>79.992778</td>\n",
       "      <td>35</td>\n",
       "      <td>0.006342</td>\n",
       "      <td>15</td>\n",
       "      <td>0.093525</td>\n",
       "      <td>False</td>\n",
       "    </tr>\n",
       "    <tr>\n",
       "      <th>...</th>\n",
       "      <td>...</td>\n",
       "      <td>...</td>\n",
       "      <td>...</td>\n",
       "      <td>...</td>\n",
       "      <td>...</td>\n",
       "      <td>...</td>\n",
       "      <td>...</td>\n",
       "      <td>...</td>\n",
       "      <td>...</td>\n",
       "      <td>...</td>\n",
       "      <td>...</td>\n",
       "      <td>...</td>\n",
       "      <td>...</td>\n",
       "      <td>...</td>\n",
       "    </tr>\n",
       "    <tr>\n",
       "      <th>25427</th>\n",
       "      <td>2119</td>\n",
       "      <td>15</td>\n",
       "      <td>1</td>\n",
       "      <td>1</td>\n",
       "      <td>4</td>\n",
       "      <td>1.242737</td>\n",
       "      <td>34</td>\n",
       "      <td>7</td>\n",
       "      <td>128.830432</td>\n",
       "      <td>166</td>\n",
       "      <td>0.173685</td>\n",
       "      <td>35</td>\n",
       "      <td>0.439688</td>\n",
       "      <td>False</td>\n",
       "    </tr>\n",
       "    <tr>\n",
       "      <th>25428</th>\n",
       "      <td>5</td>\n",
       "      <td>2</td>\n",
       "      <td>2</td>\n",
       "      <td>2</td>\n",
       "      <td>2</td>\n",
       "      <td>0.293172</td>\n",
       "      <td>65</td>\n",
       "      <td>5</td>\n",
       "      <td>237.473025</td>\n",
       "      <td>3</td>\n",
       "      <td>0.068047</td>\n",
       "      <td>2</td>\n",
       "      <td>0.167254</td>\n",
       "      <td>False</td>\n",
       "    </tr>\n",
       "    <tr>\n",
       "      <th>25429</th>\n",
       "      <td>3</td>\n",
       "      <td>4</td>\n",
       "      <td>1</td>\n",
       "      <td>1</td>\n",
       "      <td>1</td>\n",
       "      <td>0.168784</td>\n",
       "      <td>12</td>\n",
       "      <td>2</td>\n",
       "      <td>36.679268</td>\n",
       "      <td>147</td>\n",
       "      <td>0.017463</td>\n",
       "      <td>47</td>\n",
       "      <td>0.658303</td>\n",
       "      <td>True</td>\n",
       "    </tr>\n",
       "    <tr>\n",
       "      <th>25430</th>\n",
       "      <td>75743</td>\n",
       "      <td>74</td>\n",
       "      <td>1</td>\n",
       "      <td>7</td>\n",
       "      <td>22</td>\n",
       "      <td>2.113842</td>\n",
       "      <td>310</td>\n",
       "      <td>11</td>\n",
       "      <td>340.326846</td>\n",
       "      <td>193</td>\n",
       "      <td>0.026939</td>\n",
       "      <td>136</td>\n",
       "      <td>0.330657</td>\n",
       "      <td>False</td>\n",
       "    </tr>\n",
       "    <tr>\n",
       "      <th>25431</th>\n",
       "      <td>224</td>\n",
       "      <td>48</td>\n",
       "      <td>3</td>\n",
       "      <td>8</td>\n",
       "      <td>19</td>\n",
       "      <td>2.177504</td>\n",
       "      <td>239</td>\n",
       "      <td>5</td>\n",
       "      <td>116.927224</td>\n",
       "      <td>1024</td>\n",
       "      <td>0.984243</td>\n",
       "      <td>957</td>\n",
       "      <td>0.850700</td>\n",
       "      <td>False</td>\n",
       "    </tr>\n",
       "  </tbody>\n",
       "</table>\n",
       "<p>25432 rows × 14 columns</p>\n",
       "</div>"
      ],
      "text/plain": [
       "          la  ld  ns  nd  nf       ent  nuc  ndev       inter   exp      rexp  \\\n",
       "0         29   1   1   1   3  0.191040    7     1   65.614444   125  0.009652   \n",
       "1         97  24   2   2   4  0.215775   61     2    0.373333   162  1.672678   \n",
       "2        198  90   2   8  19  3.759673  352     8   29.971944   111  0.014614   \n",
       "3         10   5   1   1   3  0.761805   11     3  275.719352    11  0.003391   \n",
       "4         72  19   1   5   7  1.074632  139     8   79.992778    35  0.006342   \n",
       "...      ...  ..  ..  ..  ..       ...  ...   ...         ...   ...       ...   \n",
       "25427   2119  15   1   1   4  1.242737   34     7  128.830432   166  0.173685   \n",
       "25428      5   2   2   2   2  0.293172   65     5  237.473025     3  0.068047   \n",
       "25429      3   4   1   1   1  0.168784   12     2   36.679268   147  0.017463   \n",
       "25430  75743  74   1   7  22  2.113842  310    11  340.326846   193  0.026939   \n",
       "25431    224  48   3   8  19  2.177504  239     5  116.927224  1024  0.984243   \n",
       "\n",
       "       sexp       pod    fix  \n",
       "0        48  1.000000  False  \n",
       "1       148  0.885246   True  \n",
       "2        85  0.130682  False  \n",
       "3        11  0.272727  False  \n",
       "4        15  0.093525  False  \n",
       "...     ...       ...    ...  \n",
       "25427    35  0.439688  False  \n",
       "25428     2  0.167254  False  \n",
       "25429    47  0.658303   True  \n",
       "25430   136  0.330657  False  \n",
       "25431   957  0.850700  False  \n",
       "\n",
       "[25432 rows x 14 columns]"
      ]
     },
     "metadata": {},
     "output_type": "display_data"
    },
    {
     "data": {
      "text/plain": [
       "(25432,)"
      ]
     },
     "metadata": {},
     "output_type": "display_data"
    },
    {
     "data": {
      "text/plain": [
       "0         True\n",
       "1        False\n",
       "2        False\n",
       "3        False\n",
       "4        False\n",
       "         ...  \n",
       "25427     True\n",
       "25428     True\n",
       "25429     True\n",
       "25430     True\n",
       "25431     True\n",
       "Name: buggy, Length: 25432, dtype: bool"
      ]
     },
     "metadata": {},
     "output_type": "display_data"
    },
    {
     "data": {
      "text/plain": [
       "True     12716\n",
       "False    12716\n",
       "Name: buggy, dtype: int64"
      ]
     },
     "metadata": {},
     "output_type": "display_data"
    }
   ],
   "source": [
    "# from imblearn.over_sampling import BorderlineSMOTE\n",
    "from imblearn.over_sampling import SMOTE\n",
    "\n",
    "x_resampled, y_resampled = SMOTE().fit_resample(train_x, train_y)\n",
    "display(x_resampled.shape)\n",
    "display(x_resampled)\n",
    "display(y_resampled.shape)\n",
    "display(y_resampled)\n",
    "display(y_resampled.value_counts())"
   ]
  },
  {
   "cell_type": "code",
   "execution_count": 14,
   "metadata": {},
   "outputs": [
    {
     "data": {
      "text/plain": [
       "RandomForestClassifier(criterion='entropy', n_estimators=300, random_state=28)"
      ]
     },
     "execution_count": 14,
     "metadata": {},
     "output_type": "execute_result"
    }
   ],
   "source": [
    "from sklearn.ensemble import RandomForestClassifier\n",
    "from sklearn.preprocessing import StandardScaler\n",
    "\n",
    "rf = RandomForestClassifier(n_estimators=300, random_state=28, criterion='entropy')\n",
    "rf.fit(x_resampled, y_resampled)\n",
    "# rf.fit(StandardScaler().fit_transform(x_resampled), y_resampled)"
   ]
  },
  {
   "cell_type": "code",
   "execution_count": 15,
   "metadata": {},
   "outputs": [],
   "source": [
    "test_x = test.drop(['commit', 'buggy', 'plat'], axis=1)\n",
    "test_y = test['buggy']"
   ]
  },
  {
   "cell_type": "code",
   "execution_count": 16,
   "metadata": {},
   "outputs": [
    {
     "name": "stdout",
     "output_type": "stream",
     "text": [
      "              precision    recall  f1-score   support\n",
      "\n",
      "       False       0.96      0.93      0.94      5447\n",
      "        True       0.27      0.38      0.32       371\n",
      "\n",
      "    accuracy                           0.89      5818\n",
      "   macro avg       0.61      0.65      0.63      5818\n",
      "weighted avg       0.91      0.89      0.90      5818\n",
      "\n",
      "            pred:False  pred:True\n",
      "true:False        5065        382\n",
      "true:True          230        141\n"
     ]
    }
   ],
   "source": [
    "import numpy as np\n",
    "import pandas as pd\n",
    "from sklearn.metrics import classification_report, confusion_matrix, f1_score\n",
    "\n",
    "predictions = rf.predict(test_x)\n",
    "report = classification_report(test_y, predictions)\n",
    "unique_label = np.unique([test_y, predictions])\n",
    "cmtx = pd.DataFrame(\n",
    "    confusion_matrix(test_y, predictions, labels=unique_label), \n",
    "    index=['true:{:}'.format(x) for x in unique_label], \n",
    "    columns=['pred:{:}'.format(x) for x in unique_label]\n",
    ")\n",
    "print(report)\n",
    "print(cmtx)"
   ]
  },
  {
   "cell_type": "code",
   "execution_count": 17,
   "metadata": {},
   "outputs": [
    {
     "name": "stdout",
     "output_type": "stream",
     "text": [
      "Threshhold: 0.44; Max-Score: 0.32630614115490375\n",
      "              precision    recall  f1-score   support\n",
      "\n",
      "       False       0.96      0.90      0.93      5447\n",
      "        True       0.25      0.48      0.33       371\n",
      "\n",
      "    accuracy                           0.87      5818\n",
      "   macro avg       0.60      0.69      0.63      5818\n",
      "weighted avg       0.92      0.87      0.89      5818\n",
      "\n",
      "[[4905  542]\n",
      " [ 193  178]]\n"
     ]
    }
   ],
   "source": [
    "pred_prob = rf.predict_proba(test_x)\n",
    "\n",
    "max_score = 0\n",
    "th = 0\n",
    "\n",
    "for i in range(1, 100):\n",
    "    pred2 = (pred_prob[:,1] >= i/100)\n",
    "    score = f1_score(test_y, pred2)\n",
    "    if score > max_score:\n",
    "        max_score = score\n",
    "        th = i/100\n",
    "\n",
    "print(f'Threshhold: {th}; Max-Score: {max_score}')\n",
    "pred2 = (pred_prob[:,1] >= th)\n",
    "rep2 = classification_report(test_y, pred2)\n",
    "print(rep2)\n",
    "print(confusion_matrix(test_y, pred2))\n"
   ]
  },
  {
   "cell_type": "code",
   "execution_count": 18,
   "metadata": {},
   "outputs": [],
   "source": [
    "# from math import sqrt\n",
    "\n",
    "# def get_best_rf_threshold(pred_prob, test_y):\n",
    "#     max_score = 0\n",
    "#     th = 0\n",
    "#     for i in range(10, 100):\n",
    "#         pred = (pred_prob[:,1] >= i/100)\n",
    "#         if score > max_score:\n",
    "#             max_score = score\n",
    "#             th = i/100\n",
    "\n",
    "#     return (th, max_score)\n",
    "\n",
    "# def get_best_rf_maxfeatures(train_x, train_y, \n",
    "#                              test_x, test_y, \n",
    "#                              len, th):\n",
    "#     max_score = 0\n",
    "#     mf = 0\n",
    "#     for i in range(4, len):\n",
    "#         rf = RandomForestClassifier(n_estimators=300, \n",
    "#                                     random_state=28, \n",
    "#                                     criterion='entropy',\n",
    "#                                     max_features=i)\n",
    "#         rf.fit(train_x, train_y)\n",
    "#         pred_prob = rf.predict_proba(test_x)\n",
    "#         pred = (pred_prob[:,1] >= th)\n",
    "#         score = f1_score(test_y, pred)\n",
    "#         if score > max_score:\n",
    "#             max_score = score\n",
    "#             mf = i\n",
    "#             pp = pred_prob\n",
    "\n",
    "#     return (mf, pp)\n",
    "\n",
    "\n",
    "# def get_best_rf_params(train_x, train_y, test_x, test_y):\n",
    "#     cur_score, new_score = 0, 0\n",
    "#     th = 0.5\n",
    "#     mf = 3\n",
    "#     while new_score >= cur_score:\n",
    "#         last_mf = mf\n",
    "#         last_th = th\n",
    "#         cur_score = new_score\n",
    "        \n",
    "#         print(f'Old score {cur_score} {last_mf} {last_th}')\n",
    "        \n",
    "#         mf, pp = get_best_rf_maxfeatures(\n",
    "#             train_x, train_y, test_x, test_y, \n",
    "#             test_x.shape[1], th\n",
    "#         )\n",
    "#         th, new_score = get_best_rf_threshold(pp, test_y)\n",
    "        \n",
    "#         print(f'New score {new_score} {mf} {th}')\n",
    "        \n",
    "#     return last_mf, last_th\n",
    "\n",
    "\n",
    "# get_best_rf_params(x_resampled, y_resampled, test_x, test_y)\n",
    "     \n",
    "    "
   ]
  },
  {
   "cell_type": "code",
   "execution_count": 19,
   "metadata": {},
   "outputs": [],
   "source": [
    "# rf = RandomForestClassifier(\n",
    "#     n_estimators=300, \n",
    "#     random_state=28, \n",
    "#     criterion='entropy', \n",
    "#     max_features=3\n",
    "# )\n",
    "# rf.fit(x_resampled, y_resampled)\n",
    "\n",
    "# pred_prob = rf.predict_proba(test_x)\n",
    "# pred = (pred_prob[:,1] > 0.32)\n",
    "# report = classification_report(test_y, pred)\n",
    "# unique_label = np.unique([test_y, pred])\n",
    "# cmtx = pd.DataFrame(\n",
    "#     confusion_matrix(test_y, predictions, labels=unique_label), \n",
    "#     index=['true:{:}'.format(x) for x in unique_label], \n",
    "#     columns=['pred:{:}'.format(x) for x in unique_label]\n",
    "# )\n",
    "# print(report)\n",
    "# print(cmtx)"
   ]
  }
 ],
 "metadata": {
  "interpreter": {
   "hash": "35383268eb5c3d6dcb072f31458c55fc8f04b9d65f74ac9a83b7c611fa0f2c7f"
  },
  "kernelspec": {
   "display_name": "Python 3.9.7 64-bit ('defi-score': conda)",
   "name": "python3"
  },
  "language_info": {
   "codemirror_mode": {
    "name": "ipython",
    "version": 3
   },
   "file_extension": ".py",
   "mimetype": "text/x-python",
   "name": "python",
   "nbconvert_exporter": "python",
   "pygments_lexer": "ipython3",
   "version": "3.9.7"
  },
  "orig_nbformat": 4
 },
 "nbformat": 4,
 "nbformat_minor": 2
}
