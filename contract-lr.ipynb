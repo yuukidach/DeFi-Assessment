{
 "cells": [
  {
   "cell_type": "code",
   "execution_count": 1,
   "metadata": {},
   "outputs": [],
   "source": [
    "from pathlib import Path\n",
    "from defi_lend_eval.modelling import contract"
   ]
  },
  {
   "cell_type": "code",
   "execution_count": 2,
   "metadata": {},
   "outputs": [
    {
     "data": {
      "text/plain": [
       "(19392, 17)"
      ]
     },
     "metadata": {},
     "output_type": "display_data"
    },
    {
     "data": {
      "text/plain": [
       "(19392, 17)"
      ]
     },
     "metadata": {},
     "output_type": "display_data"
    },
    {
     "data": {
      "text/html": [
       "<div>\n",
       "<style scoped>\n",
       "    .dataframe tbody tr th:only-of-type {\n",
       "        vertical-align: middle;\n",
       "    }\n",
       "\n",
       "    .dataframe tbody tr th {\n",
       "        vertical-align: top;\n",
       "    }\n",
       "\n",
       "    .dataframe thead th {\n",
       "        text-align: right;\n",
       "    }\n",
       "</style>\n",
       "<table border=\"1\" class=\"dataframe\">\n",
       "  <thead>\n",
       "    <tr style=\"text-align: right;\">\n",
       "      <th></th>\n",
       "      <th>commit</th>\n",
       "      <th>la</th>\n",
       "      <th>ld</th>\n",
       "      <th>ns</th>\n",
       "      <th>nd</th>\n",
       "      <th>nf</th>\n",
       "      <th>ent</th>\n",
       "      <th>nuc</th>\n",
       "      <th>ndev</th>\n",
       "      <th>inter</th>\n",
       "      <th>exp</th>\n",
       "      <th>rexp</th>\n",
       "      <th>sexp</th>\n",
       "      <th>pod</th>\n",
       "      <th>fix</th>\n",
       "      <th>buggy</th>\n",
       "      <th>plat</th>\n",
       "    </tr>\n",
       "  </thead>\n",
       "  <tbody>\n",
       "    <tr>\n",
       "      <th>0</th>\n",
       "      <td>ca96d695</td>\n",
       "      <td>966</td>\n",
       "      <td>37</td>\n",
       "      <td>3</td>\n",
       "      <td>7</td>\n",
       "      <td>14</td>\n",
       "      <td>1.332095</td>\n",
       "      <td>62</td>\n",
       "      <td>1</td>\n",
       "      <td>64.008765</td>\n",
       "      <td>210</td>\n",
       "      <td>0.029312</td>\n",
       "      <td>188</td>\n",
       "      <td>1.000000</td>\n",
       "      <td>False</td>\n",
       "      <td>False</td>\n",
       "      <td>88mph_matrix</td>\n",
       "    </tr>\n",
       "    <tr>\n",
       "      <th>1</th>\n",
       "      <td>1d02a6bb</td>\n",
       "      <td>7</td>\n",
       "      <td>7</td>\n",
       "      <td>3</td>\n",
       "      <td>4</td>\n",
       "      <td>5</td>\n",
       "      <td>1.220036</td>\n",
       "      <td>29</td>\n",
       "      <td>1</td>\n",
       "      <td>294.411611</td>\n",
       "      <td>117</td>\n",
       "      <td>0.004706</td>\n",
       "      <td>44</td>\n",
       "      <td>1.000000</td>\n",
       "      <td>False</td>\n",
       "      <td>False</td>\n",
       "      <td>88mph_matrix</td>\n",
       "    </tr>\n",
       "    <tr>\n",
       "      <th>2</th>\n",
       "      <td>33639778</td>\n",
       "      <td>24751</td>\n",
       "      <td>115</td>\n",
       "      <td>2</td>\n",
       "      <td>3</td>\n",
       "      <td>44</td>\n",
       "      <td>1.089848</td>\n",
       "      <td>39</td>\n",
       "      <td>2</td>\n",
       "      <td>569.835787</td>\n",
       "      <td>91</td>\n",
       "      <td>0.020129</td>\n",
       "      <td>26</td>\n",
       "      <td>0.487179</td>\n",
       "      <td>False</td>\n",
       "      <td>True</td>\n",
       "      <td>88mph_matrix</td>\n",
       "    </tr>\n",
       "    <tr>\n",
       "      <th>3</th>\n",
       "      <td>2383726a</td>\n",
       "      <td>3</td>\n",
       "      <td>1</td>\n",
       "      <td>1</td>\n",
       "      <td>1</td>\n",
       "      <td>1</td>\n",
       "      <td>0.026486</td>\n",
       "      <td>59</td>\n",
       "      <td>1</td>\n",
       "      <td>118.513333</td>\n",
       "      <td>152</td>\n",
       "      <td>0.402389</td>\n",
       "      <td>104</td>\n",
       "      <td>1.000000</td>\n",
       "      <td>True</td>\n",
       "      <td>False</td>\n",
       "      <td>88mph_matrix</td>\n",
       "    </tr>\n",
       "    <tr>\n",
       "      <th>4</th>\n",
       "      <td>d01b89b9</td>\n",
       "      <td>31</td>\n",
       "      <td>19</td>\n",
       "      <td>3</td>\n",
       "      <td>3</td>\n",
       "      <td>11</td>\n",
       "      <td>3.046779</td>\n",
       "      <td>10</td>\n",
       "      <td>1</td>\n",
       "      <td>16.237778</td>\n",
       "      <td>77</td>\n",
       "      <td>0.006936</td>\n",
       "      <td>26</td>\n",
       "      <td>1.000000</td>\n",
       "      <td>True</td>\n",
       "      <td>False</td>\n",
       "      <td>88mph_matrix</td>\n",
       "    </tr>\n",
       "  </tbody>\n",
       "</table>\n",
       "</div>"
      ],
      "text/plain": [
       "     commit     la   ld  ns  nd  nf       ent  nuc  ndev       inter  exp  \\\n",
       "0  ca96d695    966   37   3   7  14  1.332095   62     1   64.008765  210   \n",
       "1  1d02a6bb      7    7   3   4   5  1.220036   29     1  294.411611  117   \n",
       "2  33639778  24751  115   2   3  44  1.089848   39     2  569.835787   91   \n",
       "3  2383726a      3    1   1   1   1  0.026486   59     1  118.513333  152   \n",
       "4  d01b89b9     31   19   3   3  11  3.046779   10     1   16.237778   77   \n",
       "\n",
       "       rexp  sexp       pod    fix  buggy          plat  \n",
       "0  0.029312   188  1.000000  False  False  88mph_matrix  \n",
       "1  0.004706    44  1.000000  False  False  88mph_matrix  \n",
       "2  0.020129    26  0.487179  False   True  88mph_matrix  \n",
       "3  0.402389   104  1.000000   True  False  88mph_matrix  \n",
       "4  0.006936    26  1.000000   True  False  88mph_matrix  "
      ]
     },
     "execution_count": 2,
     "metadata": {},
     "output_type": "execute_result"
    }
   ],
   "source": [
    "\n",
    "p = Path('/mnt/d/projects/Defi-Lending-Evaluation/data/')\n",
    "fnames = contract.find_data_file(p)\n",
    "df = contract.read_data(fnames)\n",
    "display(df.shape)\n",
    "df = df.dropna()\n",
    "display(df.shape)\n",
    "df.head()"
   ]
  },
  {
   "cell_type": "code",
   "execution_count": 3,
   "metadata": {},
   "outputs": [
    {
     "data": {
      "text/plain": [
       "commit     object\n",
       "la          int64\n",
       "ld          int64\n",
       "ns          int64\n",
       "nd          int64\n",
       "nf          int64\n",
       "ent       float64\n",
       "nuc         int64\n",
       "ndev        int64\n",
       "inter     float64\n",
       "exp         int64\n",
       "rexp      float64\n",
       "sexp        int64\n",
       "pod       float64\n",
       "fix          bool\n",
       "buggy        bool\n",
       "plat       object\n",
       "dtype: object"
      ]
     },
     "execution_count": 3,
     "metadata": {},
     "output_type": "execute_result"
    }
   ],
   "source": [
    "df.dtypes"
   ]
  },
  {
   "cell_type": "code",
   "execution_count": 4,
   "metadata": {},
   "outputs": [
    {
     "data": {
      "text/html": [
       "<div>\n",
       "<style scoped>\n",
       "    .dataframe tbody tr th:only-of-type {\n",
       "        vertical-align: middle;\n",
       "    }\n",
       "\n",
       "    .dataframe tbody tr th {\n",
       "        vertical-align: top;\n",
       "    }\n",
       "\n",
       "    .dataframe thead th {\n",
       "        text-align: right;\n",
       "    }\n",
       "</style>\n",
       "<table border=\"1\" class=\"dataframe\">\n",
       "  <thead>\n",
       "    <tr style=\"text-align: right;\">\n",
       "      <th></th>\n",
       "      <th>la</th>\n",
       "      <th>ld</th>\n",
       "      <th>ns</th>\n",
       "      <th>nd</th>\n",
       "      <th>nf</th>\n",
       "      <th>ent</th>\n",
       "      <th>nuc</th>\n",
       "      <th>ndev</th>\n",
       "      <th>inter</th>\n",
       "      <th>exp</th>\n",
       "      <th>rexp</th>\n",
       "      <th>sexp</th>\n",
       "      <th>pod</th>\n",
       "    </tr>\n",
       "  </thead>\n",
       "  <tbody>\n",
       "    <tr>\n",
       "      <th>count</th>\n",
       "      <td>19392.000000</td>\n",
       "      <td>19392.000000</td>\n",
       "      <td>19392.000000</td>\n",
       "      <td>19392.000000</td>\n",
       "      <td>19392.000000</td>\n",
       "      <td>19392.000000</td>\n",
       "      <td>19392.000000</td>\n",
       "      <td>19392.000000</td>\n",
       "      <td>19392.000000</td>\n",
       "      <td>19392.000000</td>\n",
       "      <td>19392.000000</td>\n",
       "      <td>19392.000000</td>\n",
       "      <td>19392.000000</td>\n",
       "    </tr>\n",
       "    <tr>\n",
       "      <th>mean</th>\n",
       "      <td>684.168626</td>\n",
       "      <td>10.832766</td>\n",
       "      <td>1.462304</td>\n",
       "      <td>2.291409</td>\n",
       "      <td>4.540171</td>\n",
       "      <td>0.664470</td>\n",
       "      <td>80.272535</td>\n",
       "      <td>5.390316</td>\n",
       "      <td>272.133537</td>\n",
       "      <td>247.492162</td>\n",
       "      <td>0.257154</td>\n",
       "      <td>134.928785</td>\n",
       "      <td>0.460632</td>\n",
       "    </tr>\n",
       "    <tr>\n",
       "      <th>std</th>\n",
       "      <td>5971.473919</td>\n",
       "      <td>41.170533</td>\n",
       "      <td>0.946794</td>\n",
       "      <td>3.087003</td>\n",
       "      <td>13.380691</td>\n",
       "      <td>2.532073</td>\n",
       "      <td>141.699653</td>\n",
       "      <td>5.229826</td>\n",
       "      <td>723.060757</td>\n",
       "      <td>432.260136</td>\n",
       "      <td>0.516910</td>\n",
       "      <td>290.362055</td>\n",
       "      <td>0.378908</td>\n",
       "    </tr>\n",
       "    <tr>\n",
       "      <th>min</th>\n",
       "      <td>0.000000</td>\n",
       "      <td>0.000000</td>\n",
       "      <td>0.000000</td>\n",
       "      <td>0.000000</td>\n",
       "      <td>0.000000</td>\n",
       "      <td>-29.378968</td>\n",
       "      <td>0.000000</td>\n",
       "      <td>0.000000</td>\n",
       "      <td>-2155.811389</td>\n",
       "      <td>0.000000</td>\n",
       "      <td>-16.641403</td>\n",
       "      <td>0.000000</td>\n",
       "      <td>0.000000</td>\n",
       "    </tr>\n",
       "    <tr>\n",
       "      <th>25%</th>\n",
       "      <td>3.000000</td>\n",
       "      <td>1.000000</td>\n",
       "      <td>1.000000</td>\n",
       "      <td>1.000000</td>\n",
       "      <td>1.000000</td>\n",
       "      <td>0.067497</td>\n",
       "      <td>9.000000</td>\n",
       "      <td>2.000000</td>\n",
       "      <td>1.059792</td>\n",
       "      <td>21.000000</td>\n",
       "      <td>0.007126</td>\n",
       "      <td>8.000000</td>\n",
       "      <td>0.090909</td>\n",
       "    </tr>\n",
       "    <tr>\n",
       "      <th>50%</th>\n",
       "      <td>19.000000</td>\n",
       "      <td>4.000000</td>\n",
       "      <td>1.000000</td>\n",
       "      <td>1.000000</td>\n",
       "      <td>2.000000</td>\n",
       "      <td>0.248694</td>\n",
       "      <td>30.000000</td>\n",
       "      <td>4.000000</td>\n",
       "      <td>31.551667</td>\n",
       "      <td>87.000000</td>\n",
       "      <td>0.049841</td>\n",
       "      <td>35.000000</td>\n",
       "      <td>0.387097</td>\n",
       "    </tr>\n",
       "    <tr>\n",
       "      <th>75%</th>\n",
       "      <td>87.000000</td>\n",
       "      <td>9.000000</td>\n",
       "      <td>2.000000</td>\n",
       "      <td>2.000000</td>\n",
       "      <td>4.000000</td>\n",
       "      <td>0.590007</td>\n",
       "      <td>87.000000</td>\n",
       "      <td>7.000000</td>\n",
       "      <td>210.423438</td>\n",
       "      <td>275.000000</td>\n",
       "      <td>0.315467</td>\n",
       "      <td>112.000000</td>\n",
       "      <td>0.885917</td>\n",
       "    </tr>\n",
       "    <tr>\n",
       "      <th>max</th>\n",
       "      <td>486679.000000</td>\n",
       "      <td>1685.000000</td>\n",
       "      <td>12.000000</td>\n",
       "      <td>113.000000</td>\n",
       "      <td>479.000000</td>\n",
       "      <td>126.526839</td>\n",
       "      <td>1989.000000</td>\n",
       "      <td>41.000000</td>\n",
       "      <td>18159.963056</td>\n",
       "      <td>2507.000000</td>\n",
       "      <td>19.021532</td>\n",
       "      <td>2292.000000</td>\n",
       "      <td>1.000000</td>\n",
       "    </tr>\n",
       "  </tbody>\n",
       "</table>\n",
       "</div>"
      ],
      "text/plain": [
       "                  la            ld            ns            nd            nf  \\\n",
       "count   19392.000000  19392.000000  19392.000000  19392.000000  19392.000000   \n",
       "mean      684.168626     10.832766      1.462304      2.291409      4.540171   \n",
       "std      5971.473919     41.170533      0.946794      3.087003     13.380691   \n",
       "min         0.000000      0.000000      0.000000      0.000000      0.000000   \n",
       "25%         3.000000      1.000000      1.000000      1.000000      1.000000   \n",
       "50%        19.000000      4.000000      1.000000      1.000000      2.000000   \n",
       "75%        87.000000      9.000000      2.000000      2.000000      4.000000   \n",
       "max    486679.000000   1685.000000     12.000000    113.000000    479.000000   \n",
       "\n",
       "                ent           nuc          ndev         inter           exp  \\\n",
       "count  19392.000000  19392.000000  19392.000000  19392.000000  19392.000000   \n",
       "mean       0.664470     80.272535      5.390316    272.133537    247.492162   \n",
       "std        2.532073    141.699653      5.229826    723.060757    432.260136   \n",
       "min      -29.378968      0.000000      0.000000  -2155.811389      0.000000   \n",
       "25%        0.067497      9.000000      2.000000      1.059792     21.000000   \n",
       "50%        0.248694     30.000000      4.000000     31.551667     87.000000   \n",
       "75%        0.590007     87.000000      7.000000    210.423438    275.000000   \n",
       "max      126.526839   1989.000000     41.000000  18159.963056   2507.000000   \n",
       "\n",
       "               rexp          sexp           pod  \n",
       "count  19392.000000  19392.000000  19392.000000  \n",
       "mean       0.257154    134.928785      0.460632  \n",
       "std        0.516910    290.362055      0.378908  \n",
       "min      -16.641403      0.000000      0.000000  \n",
       "25%        0.007126      8.000000      0.090909  \n",
       "50%        0.049841     35.000000      0.387097  \n",
       "75%        0.315467    112.000000      0.885917  \n",
       "max       19.021532   2292.000000      1.000000  "
      ]
     },
     "execution_count": 4,
     "metadata": {},
     "output_type": "execute_result"
    }
   ],
   "source": [
    "df.describe()"
   ]
  },
  {
   "cell_type": "code",
   "execution_count": 5,
   "metadata": {},
   "outputs": [
    {
     "data": {
      "text/plain": [
       "False    18163\n",
       "True      1229\n",
       "Name: buggy, dtype: int64"
      ]
     },
     "execution_count": 5,
     "metadata": {},
     "output_type": "execute_result"
    },
    {
     "data": {
      "image/png": "[encoded data removed]",
      "text/plain": [
       "<Figure size 720x576 with 1 Axes>"
      ]
     },
     "metadata": {
      "needs_background": "light"
     },
     "output_type": "display_data"
    }
   ],
   "source": [
    "from matplotlib import pyplot as plt\n",
    "plt.figure(figsize=(10, 8))\n",
    "ax = df['buggy'].value_counts().plot.bar()\n",
    "df['buggy'].value_counts()"
   ]
  },
  {
   "cell_type": "code",
   "execution_count": 6,
   "metadata": {},
   "outputs": [
    {
     "data": {
      "image/png": "[encoded data removed]",
      "text/plain": [
       "<Figure size 576x432 with 1 Axes>"
      ]
     },
     "metadata": {
      "needs_background": "light"
     },
     "output_type": "display_data"
    },
    {
     "data": {
      "image/png": "[encoded data removed]",
      "text/plain": [
       "<Figure size 576x432 with 1 Axes>"
      ]
     },
     "metadata": {
      "needs_background": "light"
     },
     "output_type": "display_data"
    },
    {
     "data": {
      "image/png": "[encoded data removed]",
      "text/plain": [
       "<Figure size 576x432 with 1 Axes>"
      ]
     },
     "metadata": {
      "needs_background": "light"
     },
     "output_type": "display_data"
    },
    {
     "data": {
      "image/png": "[encoded data removed]",
      "text/plain": [
       "<Figure size 576x432 with 1 Axes>"
      ]
     },
     "metadata": {
      "needs_background": "light"
     },
     "output_type": "display_data"
    },
    {
     "data": {
      "image/png": "[encoded data removed]",
      "text/plain": [
       "<Figure size 576x432 with 1 Axes>"
      ]
     },
     "metadata": {
      "needs_background": "light"
     },
     "output_type": "display_data"
    },
    {
     "data": {
      "image/png": "[encoded data removed]",
      "text/plain": [
       "<Figure size 576x432 with 1 Axes>"
      ]
     },
     "metadata": {
      "needs_background": "light"
     },
     "output_type": "display_data"
    },
    {
     "data": {
      "image/png": "[encoded data removed]",
      "text/plain": [
       "<Figure size 576x432 with 1 Axes>"
      ]
     },
     "metadata": {
      "needs_background": "light"
     },
     "output_type": "display_data"
    },
    {
     "data": {
      "image/png": "[encoded data removed]",
      "text/plain": [
       "<Figure size 576x432 with 1 Axes>"
      ]
     },
     "metadata": {
      "needs_background": "light"
     },
     "output_type": "display_data"
    },
    {
     "data": {
      "image/png": "[encoded data removed]",
      "text/plain": [
       "<Figure size 576x432 with 1 Axes>"
      ]
     },
     "metadata": {
      "needs_background": "light"
     },
     "output_type": "display_data"
    },
    {
     "data": {
      "image/png": "[encoded data removed]",
      "text/plain": [
       "<Figure size 576x432 with 1 Axes>"
      ]
     },
     "metadata": {
      "needs_background": "light"
     },
     "output_type": "display_data"
    },
    {
     "data": {
      "image/png": "[encoded data removed]",
      "text/plain": [
       "<Figure size 576x432 with 1 Axes>"
      ]
     },
     "metadata": {
      "needs_background": "light"
     },
     "output_type": "display_data"
    },
    {
     "data": {
      "image/png": "[encoded data removed]",
      "text/plain": [
       "<Figure size 576x432 with 1 Axes>"
      ]
     },
     "metadata": {
      "needs_background": "light"
     },
     "output_type": "display_data"
    },
    {
     "data": {
      "image/png": "[encoded data removed]",
      "text/plain": [
       "<Figure size 576x432 with 1 Axes>"
      ]
     },
     "metadata": {
      "needs_background": "light"
     },
     "output_type": "display_data"
    }
   ],
   "source": [
    "for col in df:\n",
    "    if col in ['commit', 'fix', 'buggy', 'plat']:\n",
    "        continue\n",
    "    plt.figure(figsize=(8, 6))\n",
    "    ax = df.boxplot([col])\n",
    "    ax.set_yscale('log')"
   ]
  },
  {
   "cell_type": "code",
   "execution_count": 7,
   "metadata": {},
   "outputs": [
    {
     "data": {
      "text/plain": [
       "29755.47999999905"
      ]
     },
     "metadata": {},
     "output_type": "display_data"
    },
    {
     "data": {
      "text/plain": [
       "(19392, 17)"
      ]
     },
     "metadata": {},
     "output_type": "display_data"
    },
    {
     "data": {
      "text/plain": [
       "(19295, 17)"
      ]
     },
     "metadata": {},
     "output_type": "display_data"
    }
   ],
   "source": [
    "# remove commit with too many added lines, since those changes may mainly due to\n",
    "# the modification of configurations files (like json, yaml, and so on.)\n",
    "q99 = df['la'].quantile(0.995)\n",
    "display(q99)\n",
    "df1 = df[df['la'] < q99]\n",
    "display(df.shape)\n",
    "display(df1.shape)"
   ]
  },
  {
   "cell_type": "code",
   "execution_count": 8,
   "metadata": {},
   "outputs": [
    {
     "data": {
      "image/png": "[encoded data removed]",
      "text/plain": [
       "<Figure size 576x432 with 1 Axes>"
      ]
     },
     "metadata": {
      "needs_background": "light"
     },
     "output_type": "display_data"
    },
    {
     "data": {
      "image/png": "[encoded data removed]",
      "text/plain": [
       "<Figure size 576x432 with 1 Axes>"
      ]
     },
     "metadata": {
      "needs_background": "light"
     },
     "output_type": "display_data"
    },
    {
     "data": {
      "image/png": "[encoded data removed]",
      "text/plain": [
       "<Figure size 576x432 with 1 Axes>"
      ]
     },
     "metadata": {
      "needs_background": "light"
     },
     "output_type": "display_data"
    },
    {
     "data": {
      "image/png": "[encoded data removed]",
      "text/plain": [
       "<Figure size 576x432 with 1 Axes>"
      ]
     },
     "metadata": {
      "needs_background": "light"
     },
     "output_type": "display_data"
    },
    {
     "data": {
      "image/png": "[encoded data removed]",
      "text/plain": [
       "<Figure size 576x432 with 1 Axes>"
      ]
     },
     "metadata": {
      "needs_background": "light"
     },
     "output_type": "display_data"
    },
    {
     "data": {
      "image/png": "[encoded data removed]",
      "text/plain": [
       "<Figure size 576x432 with 1 Axes>"
      ]
     },
     "metadata": {
      "needs_background": "light"
     },
     "output_type": "display_data"
    },
    {
     "data": {
      "image/png": "[encoded data removed]",
      "text/plain": [
       "<Figure size 576x432 with 1 Axes>"
      ]
     },
     "metadata": {
      "needs_background": "light"
     },
     "output_type": "display_data"
    },
    {
     "data": {
      "image/png": "[encoded data removed]",
      "text/plain": [
       "<Figure size 576x432 with 1 Axes>"
      ]
     },
     "metadata": {
      "needs_background": "light"
     },
     "output_type": "display_data"
    },
    {
     "data": {
      "image/png": "[encoded data removed]",
      "text/plain": [
       "<Figure size 576x432 with 1 Axes>"
      ]
     },
     "metadata": {
      "needs_background": "light"
     },
     "output_type": "display_data"
    },
    {
     "data": {
      "image/png": "[encoded data removed]",
      "text/plain": [
       "<Figure size 576x432 with 1 Axes>"
      ]
     },
     "metadata": {
      "needs_background": "light"
     },
     "output_type": "display_data"
    },
    {
     "data": {
      "image/png": "[encoded data removed]",
      "text/plain": [
       "<Figure size 576x432 with 1 Axes>"
      ]
     },
     "metadata": {
      "needs_background": "light"
     },
     "output_type": "display_data"
    },
    {
     "data": {
      "image/png": "[encoded data removed]",
      "text/plain": [
       "<Figure size 576x432 with 1 Axes>"
      ]
     },
     "metadata": {
      "needs_background": "light"
     },
     "output_type": "display_data"
    },
    {
     "data": {
      "image/png": "[encoded data removed]",
      "text/plain": [
       "<Figure size 576x432 with 1 Axes>"
      ]
     },
     "metadata": {
      "needs_background": "light"
     },
     "output_type": "display_data"
    }
   ],
   "source": [
    "for col in df1:\n",
    "    if col in ['commit', 'fix', 'buggy', 'plat']:\n",
    "        continue\n",
    "    plt.figure(figsize=(8, 6))\n",
    "    ax = df1.boxplot([col])\n",
    "    ax.set_yscale('log') "
   ]
  },
  {
   "cell_type": "code",
   "execution_count": 9,
   "metadata": {},
   "outputs": [
    {
     "data": {
      "text/plain": [
       "False    18107\n",
       "True      1188\n",
       "Name: buggy, dtype: int64"
      ]
     },
     "execution_count": 9,
     "metadata": {},
     "output_type": "execute_result"
    }
   ],
   "source": [
    "df1['buggy'].value_counts()"
   ]
  },
  {
   "cell_type": "code",
   "execution_count": 10,
   "metadata": {},
   "outputs": [],
   "source": [
    "from sklearn.model_selection import train_test_split\n",
    "\n",
    "train, test = train_test_split(df1, test_size=0.3, random_state=28)\n"
   ]
  },
  {
   "cell_type": "code",
   "execution_count": 11,
   "metadata": {},
   "outputs": [
    {
     "data": {
      "text/plain": [
       "False    5456\n",
       "True      333\n",
       "Name: buggy, dtype: int64"
      ]
     },
     "metadata": {},
     "output_type": "display_data"
    },
    {
     "data": {
      "text/plain": [
       "False    12651\n",
       "True       855\n",
       "Name: buggy, dtype: int64"
      ]
     },
     "metadata": {},
     "output_type": "display_data"
    }
   ],
   "source": [
    "display(test['buggy'].value_counts())\n",
    "display(train['buggy'].value_counts())"
   ]
  },
  {
   "cell_type": "code",
   "execution_count": 12,
   "metadata": {},
   "outputs": [
    {
     "data": {
      "text/html": [
       "<div>\n",
       "<style scoped>\n",
       "    .dataframe tbody tr th:only-of-type {\n",
       "        vertical-align: middle;\n",
       "    }\n",
       "\n",
       "    .dataframe tbody tr th {\n",
       "        vertical-align: top;\n",
       "    }\n",
       "\n",
       "    .dataframe thead th {\n",
       "        text-align: right;\n",
       "    }\n",
       "</style>\n",
       "<table border=\"1\" class=\"dataframe\">\n",
       "  <thead>\n",
       "    <tr style=\"text-align: right;\">\n",
       "      <th></th>\n",
       "      <th>la</th>\n",
       "      <th>ld</th>\n",
       "      <th>ns</th>\n",
       "      <th>nd</th>\n",
       "      <th>nf</th>\n",
       "      <th>ent</th>\n",
       "      <th>nuc</th>\n",
       "      <th>ndev</th>\n",
       "      <th>inter</th>\n",
       "      <th>exp</th>\n",
       "      <th>rexp</th>\n",
       "      <th>sexp</th>\n",
       "      <th>pod</th>\n",
       "      <th>fix</th>\n",
       "    </tr>\n",
       "  </thead>\n",
       "  <tbody>\n",
       "    <tr>\n",
       "      <th>9857</th>\n",
       "      <td>0</td>\n",
       "      <td>1</td>\n",
       "      <td>1</td>\n",
       "      <td>1</td>\n",
       "      <td>1</td>\n",
       "      <td>0.000000</td>\n",
       "      <td>21</td>\n",
       "      <td>1</td>\n",
       "      <td>4.874722</td>\n",
       "      <td>32</td>\n",
       "      <td>0.070674</td>\n",
       "      <td>23</td>\n",
       "      <td>1.000000</td>\n",
       "      <td>False</td>\n",
       "    </tr>\n",
       "    <tr>\n",
       "      <th>8866</th>\n",
       "      <td>1</td>\n",
       "      <td>1</td>\n",
       "      <td>1</td>\n",
       "      <td>1</td>\n",
       "      <td>1</td>\n",
       "      <td>0.009192</td>\n",
       "      <td>96</td>\n",
       "      <td>5</td>\n",
       "      <td>0.021667</td>\n",
       "      <td>171</td>\n",
       "      <td>0.789600</td>\n",
       "      <td>79</td>\n",
       "      <td>0.197917</td>\n",
       "      <td>True</td>\n",
       "    </tr>\n",
       "    <tr>\n",
       "      <th>14531</th>\n",
       "      <td>30</td>\n",
       "      <td>0</td>\n",
       "      <td>1</td>\n",
       "      <td>1</td>\n",
       "      <td>1</td>\n",
       "      <td>0.400124</td>\n",
       "      <td>19</td>\n",
       "      <td>6</td>\n",
       "      <td>144.810278</td>\n",
       "      <td>89</td>\n",
       "      <td>0.010756</td>\n",
       "      <td>3</td>\n",
       "      <td>0.000000</td>\n",
       "      <td>False</td>\n",
       "    </tr>\n",
       "    <tr>\n",
       "      <th>5743</th>\n",
       "      <td>2</td>\n",
       "      <td>2</td>\n",
       "      <td>1</td>\n",
       "      <td>1</td>\n",
       "      <td>2</td>\n",
       "      <td>0.054137</td>\n",
       "      <td>478</td>\n",
       "      <td>22</td>\n",
       "      <td>0.255972</td>\n",
       "      <td>215</td>\n",
       "      <td>1.163901</td>\n",
       "      <td>201</td>\n",
       "      <td>0.420502</td>\n",
       "      <td>False</td>\n",
       "    </tr>\n",
       "    <tr>\n",
       "      <th>7993</th>\n",
       "      <td>34</td>\n",
       "      <td>3</td>\n",
       "      <td>1</td>\n",
       "      <td>2</td>\n",
       "      <td>2</td>\n",
       "      <td>0.643595</td>\n",
       "      <td>12</td>\n",
       "      <td>5</td>\n",
       "      <td>2255.308056</td>\n",
       "      <td>3</td>\n",
       "      <td>0.164439</td>\n",
       "      <td>3</td>\n",
       "      <td>0.083333</td>\n",
       "      <td>True</td>\n",
       "    </tr>\n",
       "    <tr>\n",
       "      <th>...</th>\n",
       "      <td>...</td>\n",
       "      <td>...</td>\n",
       "      <td>...</td>\n",
       "      <td>...</td>\n",
       "      <td>...</td>\n",
       "      <td>...</td>\n",
       "      <td>...</td>\n",
       "      <td>...</td>\n",
       "      <td>...</td>\n",
       "      <td>...</td>\n",
       "      <td>...</td>\n",
       "      <td>...</td>\n",
       "      <td>...</td>\n",
       "      <td>...</td>\n",
       "    </tr>\n",
       "    <tr>\n",
       "      <th>16568</th>\n",
       "      <td>2</td>\n",
       "      <td>1</td>\n",
       "      <td>1</td>\n",
       "      <td>1</td>\n",
       "      <td>1</td>\n",
       "      <td>0.023643</td>\n",
       "      <td>20</td>\n",
       "      <td>4</td>\n",
       "      <td>12.618333</td>\n",
       "      <td>64</td>\n",
       "      <td>0.905040</td>\n",
       "      <td>63</td>\n",
       "      <td>0.250000</td>\n",
       "      <td>False</td>\n",
       "    </tr>\n",
       "    <tr>\n",
       "      <th>7492</th>\n",
       "      <td>4</td>\n",
       "      <td>2</td>\n",
       "      <td>1</td>\n",
       "      <td>1</td>\n",
       "      <td>1</td>\n",
       "      <td>0.083051</td>\n",
       "      <td>62</td>\n",
       "      <td>14</td>\n",
       "      <td>169.081389</td>\n",
       "      <td>187</td>\n",
       "      <td>0.224153</td>\n",
       "      <td>85</td>\n",
       "      <td>0.112903</td>\n",
       "      <td>False</td>\n",
       "    </tr>\n",
       "    <tr>\n",
       "      <th>7265</th>\n",
       "      <td>10</td>\n",
       "      <td>2</td>\n",
       "      <td>1</td>\n",
       "      <td>1</td>\n",
       "      <td>1</td>\n",
       "      <td>0.004629</td>\n",
       "      <td>10</td>\n",
       "      <td>7</td>\n",
       "      <td>306.936944</td>\n",
       "      <td>72</td>\n",
       "      <td>0.006298</td>\n",
       "      <td>36</td>\n",
       "      <td>0.300000</td>\n",
       "      <td>True</td>\n",
       "    </tr>\n",
       "    <tr>\n",
       "      <th>4121</th>\n",
       "      <td>87</td>\n",
       "      <td>3</td>\n",
       "      <td>1</td>\n",
       "      <td>2</td>\n",
       "      <td>2</td>\n",
       "      <td>0.511285</td>\n",
       "      <td>16</td>\n",
       "      <td>2</td>\n",
       "      <td>21.659167</td>\n",
       "      <td>24</td>\n",
       "      <td>0.007412</td>\n",
       "      <td>17</td>\n",
       "      <td>0.750000</td>\n",
       "      <td>False</td>\n",
       "    </tr>\n",
       "    <tr>\n",
       "      <th>9560</th>\n",
       "      <td>77</td>\n",
       "      <td>18</td>\n",
       "      <td>3</td>\n",
       "      <td>3</td>\n",
       "      <td>3</td>\n",
       "      <td>0.520794</td>\n",
       "      <td>271</td>\n",
       "      <td>11</td>\n",
       "      <td>195.909907</td>\n",
       "      <td>438</td>\n",
       "      <td>0.008808</td>\n",
       "      <td>408</td>\n",
       "      <td>0.413284</td>\n",
       "      <td>True</td>\n",
       "    </tr>\n",
       "  </tbody>\n",
       "</table>\n",
       "<p>13506 rows × 14 columns</p>\n",
       "</div>"
      ],
      "text/plain": [
       "       la  ld  ns  nd  nf       ent  nuc  ndev        inter  exp      rexp  \\\n",
       "9857    0   1   1   1   1  0.000000   21     1     4.874722   32  0.070674   \n",
       "8866    1   1   1   1   1  0.009192   96     5     0.021667  171  0.789600   \n",
       "14531  30   0   1   1   1  0.400124   19     6   144.810278   89  0.010756   \n",
       "5743    2   2   1   1   2  0.054137  478    22     0.255972  215  1.163901   \n",
       "7993   34   3   1   2   2  0.643595   12     5  2255.308056    3  0.164439   \n",
       "...    ..  ..  ..  ..  ..       ...  ...   ...          ...  ...       ...   \n",
       "16568   2   1   1   1   1  0.023643   20     4    12.618333   64  0.905040   \n",
       "7492    4   2   1   1   1  0.083051   62    14   169.081389  187  0.224153   \n",
       "7265   10   2   1   1   1  0.004629   10     7   306.936944   72  0.006298   \n",
       "4121   87   3   1   2   2  0.511285   16     2    21.659167   24  0.007412   \n",
       "9560   77  18   3   3   3  0.520794  271    11   195.909907  438  0.008808   \n",
       "\n",
       "       sexp       pod    fix  \n",
       "9857     23  1.000000  False  \n",
       "8866     79  0.197917   True  \n",
       "14531     3  0.000000  False  \n",
       "5743    201  0.420502  False  \n",
       "7993      3  0.083333   True  \n",
       "...     ...       ...    ...  \n",
       "16568    63  0.250000  False  \n",
       "7492     85  0.112903  False  \n",
       "7265     36  0.300000   True  \n",
       "4121     17  0.750000  False  \n",
       "9560    408  0.413284   True  \n",
       "\n",
       "[13506 rows x 14 columns]"
      ]
     },
     "metadata": {},
     "output_type": "display_data"
    },
    {
     "data": {
      "text/plain": [
       "9857     False\n",
       "8866     False\n",
       "14531    False\n",
       "5743     False\n",
       "7993     False\n",
       "         ...  \n",
       "16568    False\n",
       "7492     False\n",
       "7265     False\n",
       "4121     False\n",
       "9560     False\n",
       "Name: buggy, Length: 13506, dtype: bool"
      ]
     },
     "execution_count": 12,
     "metadata": {},
     "output_type": "execute_result"
    }
   ],
   "source": [
    "train_x = train.drop(['commit', 'buggy', 'plat'], axis=1)\n",
    "train_y = train['buggy']\n",
    "display(train_x)\n",
    "train_y"
   ]
  },
  {
   "cell_type": "code",
   "execution_count": 13,
   "metadata": {},
   "outputs": [
    {
     "data": {
      "text/plain": [
       "(25302, 14)"
      ]
     },
     "metadata": {},
     "output_type": "display_data"
    },
    {
     "data": {
      "text/html": [
       "<div>\n",
       "<style scoped>\n",
       "    .dataframe tbody tr th:only-of-type {\n",
       "        vertical-align: middle;\n",
       "    }\n",
       "\n",
       "    .dataframe tbody tr th {\n",
       "        vertical-align: top;\n",
       "    }\n",
       "\n",
       "    .dataframe thead th {\n",
       "        text-align: right;\n",
       "    }\n",
       "</style>\n",
       "<table border=\"1\" class=\"dataframe\">\n",
       "  <thead>\n",
       "    <tr style=\"text-align: right;\">\n",
       "      <th></th>\n",
       "      <th>la</th>\n",
       "      <th>ld</th>\n",
       "      <th>ns</th>\n",
       "      <th>nd</th>\n",
       "      <th>nf</th>\n",
       "      <th>ent</th>\n",
       "      <th>nuc</th>\n",
       "      <th>ndev</th>\n",
       "      <th>inter</th>\n",
       "      <th>exp</th>\n",
       "      <th>rexp</th>\n",
       "      <th>sexp</th>\n",
       "      <th>pod</th>\n",
       "      <th>fix</th>\n",
       "    </tr>\n",
       "  </thead>\n",
       "  <tbody>\n",
       "    <tr>\n",
       "      <th>0</th>\n",
       "      <td>0</td>\n",
       "      <td>1</td>\n",
       "      <td>1</td>\n",
       "      <td>1</td>\n",
       "      <td>1</td>\n",
       "      <td>0.000000</td>\n",
       "      <td>21</td>\n",
       "      <td>1</td>\n",
       "      <td>4.874722</td>\n",
       "      <td>32</td>\n",
       "      <td>0.070674</td>\n",
       "      <td>23</td>\n",
       "      <td>1.000000</td>\n",
       "      <td>False</td>\n",
       "    </tr>\n",
       "    <tr>\n",
       "      <th>1</th>\n",
       "      <td>1</td>\n",
       "      <td>1</td>\n",
       "      <td>1</td>\n",
       "      <td>1</td>\n",
       "      <td>1</td>\n",
       "      <td>0.009192</td>\n",
       "      <td>96</td>\n",
       "      <td>5</td>\n",
       "      <td>0.021667</td>\n",
       "      <td>171</td>\n",
       "      <td>0.789600</td>\n",
       "      <td>79</td>\n",
       "      <td>0.197917</td>\n",
       "      <td>True</td>\n",
       "    </tr>\n",
       "    <tr>\n",
       "      <th>2</th>\n",
       "      <td>30</td>\n",
       "      <td>0</td>\n",
       "      <td>1</td>\n",
       "      <td>1</td>\n",
       "      <td>1</td>\n",
       "      <td>0.400124</td>\n",
       "      <td>19</td>\n",
       "      <td>6</td>\n",
       "      <td>144.810278</td>\n",
       "      <td>89</td>\n",
       "      <td>0.010756</td>\n",
       "      <td>3</td>\n",
       "      <td>0.000000</td>\n",
       "      <td>False</td>\n",
       "    </tr>\n",
       "    <tr>\n",
       "      <th>3</th>\n",
       "      <td>2</td>\n",
       "      <td>2</td>\n",
       "      <td>1</td>\n",
       "      <td>1</td>\n",
       "      <td>2</td>\n",
       "      <td>0.054137</td>\n",
       "      <td>478</td>\n",
       "      <td>22</td>\n",
       "      <td>0.255972</td>\n",
       "      <td>215</td>\n",
       "      <td>1.163901</td>\n",
       "      <td>201</td>\n",
       "      <td>0.420502</td>\n",
       "      <td>False</td>\n",
       "    </tr>\n",
       "    <tr>\n",
       "      <th>4</th>\n",
       "      <td>34</td>\n",
       "      <td>3</td>\n",
       "      <td>1</td>\n",
       "      <td>2</td>\n",
       "      <td>2</td>\n",
       "      <td>0.643595</td>\n",
       "      <td>12</td>\n",
       "      <td>5</td>\n",
       "      <td>2255.308056</td>\n",
       "      <td>3</td>\n",
       "      <td>0.164439</td>\n",
       "      <td>3</td>\n",
       "      <td>0.083333</td>\n",
       "      <td>True</td>\n",
       "    </tr>\n",
       "    <tr>\n",
       "      <th>...</th>\n",
       "      <td>...</td>\n",
       "      <td>...</td>\n",
       "      <td>...</td>\n",
       "      <td>...</td>\n",
       "      <td>...</td>\n",
       "      <td>...</td>\n",
       "      <td>...</td>\n",
       "      <td>...</td>\n",
       "      <td>...</td>\n",
       "      <td>...</td>\n",
       "      <td>...</td>\n",
       "      <td>...</td>\n",
       "      <td>...</td>\n",
       "      <td>...</td>\n",
       "    </tr>\n",
       "    <tr>\n",
       "      <th>25297</th>\n",
       "      <td>18</td>\n",
       "      <td>26</td>\n",
       "      <td>3</td>\n",
       "      <td>7</td>\n",
       "      <td>18</td>\n",
       "      <td>1.211944</td>\n",
       "      <td>103</td>\n",
       "      <td>5</td>\n",
       "      <td>341.920957</td>\n",
       "      <td>65</td>\n",
       "      <td>0.004396</td>\n",
       "      <td>60</td>\n",
       "      <td>0.359545</td>\n",
       "      <td>False</td>\n",
       "    </tr>\n",
       "    <tr>\n",
       "      <th>25298</th>\n",
       "      <td>19931</td>\n",
       "      <td>42</td>\n",
       "      <td>5</td>\n",
       "      <td>7</td>\n",
       "      <td>16</td>\n",
       "      <td>2.815999</td>\n",
       "      <td>730</td>\n",
       "      <td>27</td>\n",
       "      <td>543.343437</td>\n",
       "      <td>118</td>\n",
       "      <td>0.003148</td>\n",
       "      <td>112</td>\n",
       "      <td>0.083465</td>\n",
       "      <td>True</td>\n",
       "    </tr>\n",
       "    <tr>\n",
       "      <th>25299</th>\n",
       "      <td>10579</td>\n",
       "      <td>10</td>\n",
       "      <td>1</td>\n",
       "      <td>2</td>\n",
       "      <td>3</td>\n",
       "      <td>0.204570</td>\n",
       "      <td>40</td>\n",
       "      <td>4</td>\n",
       "      <td>544.029518</td>\n",
       "      <td>81</td>\n",
       "      <td>0.100223</td>\n",
       "      <td>27</td>\n",
       "      <td>0.275746</td>\n",
       "      <td>False</td>\n",
       "    </tr>\n",
       "    <tr>\n",
       "      <th>25300</th>\n",
       "      <td>4373</td>\n",
       "      <td>75</td>\n",
       "      <td>4</td>\n",
       "      <td>8</td>\n",
       "      <td>32</td>\n",
       "      <td>5.162645</td>\n",
       "      <td>1136</td>\n",
       "      <td>28</td>\n",
       "      <td>461.231386</td>\n",
       "      <td>251</td>\n",
       "      <td>0.005692</td>\n",
       "      <td>234</td>\n",
       "      <td>0.084963</td>\n",
       "      <td>False</td>\n",
       "    </tr>\n",
       "    <tr>\n",
       "      <th>25301</th>\n",
       "      <td>23916</td>\n",
       "      <td>6</td>\n",
       "      <td>1</td>\n",
       "      <td>1</td>\n",
       "      <td>2</td>\n",
       "      <td>0.660079</td>\n",
       "      <td>242</td>\n",
       "      <td>14</td>\n",
       "      <td>14.018122</td>\n",
       "      <td>25</td>\n",
       "      <td>0.344521</td>\n",
       "      <td>8</td>\n",
       "      <td>0.084691</td>\n",
       "      <td>False</td>\n",
       "    </tr>\n",
       "  </tbody>\n",
       "</table>\n",
       "<p>25302 rows × 14 columns</p>\n",
       "</div>"
      ],
      "text/plain": [
       "          la  ld  ns  nd  nf       ent   nuc  ndev        inter  exp  \\\n",
       "0          0   1   1   1   1  0.000000    21     1     4.874722   32   \n",
       "1          1   1   1   1   1  0.009192    96     5     0.021667  171   \n",
       "2         30   0   1   1   1  0.400124    19     6   144.810278   89   \n",
       "3          2   2   1   1   2  0.054137   478    22     0.255972  215   \n",
       "4         34   3   1   2   2  0.643595    12     5  2255.308056    3   \n",
       "...      ...  ..  ..  ..  ..       ...   ...   ...          ...  ...   \n",
       "25297     18  26   3   7  18  1.211944   103     5   341.920957   65   \n",
       "25298  19931  42   5   7  16  2.815999   730    27   543.343437  118   \n",
       "25299  10579  10   1   2   3  0.204570    40     4   544.029518   81   \n",
       "25300   4373  75   4   8  32  5.162645  1136    28   461.231386  251   \n",
       "25301  23916   6   1   1   2  0.660079   242    14    14.018122   25   \n",
       "\n",
       "           rexp  sexp       pod    fix  \n",
       "0      0.070674    23  1.000000  False  \n",
       "1      0.789600    79  0.197917   True  \n",
       "2      0.010756     3  0.000000  False  \n",
       "3      1.163901   201  0.420502  False  \n",
       "4      0.164439     3  0.083333   True  \n",
       "...         ...   ...       ...    ...  \n",
       "25297  0.004396    60  0.359545  False  \n",
       "25298  0.003148   112  0.083465   True  \n",
       "25299  0.100223    27  0.275746  False  \n",
       "25300  0.005692   234  0.084963  False  \n",
       "25301  0.344521     8  0.084691  False  \n",
       "\n",
       "[25302 rows x 14 columns]"
      ]
     },
     "metadata": {},
     "output_type": "display_data"
    },
    {
     "data": {
      "text/plain": [
       "(25302,)"
      ]
     },
     "metadata": {},
     "output_type": "display_data"
    },
    {
     "data": {
      "text/plain": [
       "0        False\n",
       "1        False\n",
       "2        False\n",
       "3        False\n",
       "4        False\n",
       "         ...  \n",
       "25297     True\n",
       "25298     True\n",
       "25299     True\n",
       "25300     True\n",
       "25301     True\n",
       "Name: buggy, Length: 25302, dtype: bool"
      ]
     },
     "metadata": {},
     "output_type": "display_data"
    },
    {
     "data": {
      "text/plain": [
       "False    12651\n",
       "True     12651\n",
       "Name: buggy, dtype: int64"
      ]
     },
     "metadata": {},
     "output_type": "display_data"
    }
   ],
   "source": [
    "# from imblearn.over_sampling import BorderlineSMOTE\n",
    "from imblearn.over_sampling import SMOTE\n",
    "\n",
    "x_resampled, y_resampled = SMOTE().fit_resample(train_x, train_y)\n",
    "display(x_resampled.shape)\n",
    "display(x_resampled)\n",
    "display(y_resampled.shape)\n",
    "display(y_resampled)\n",
    "display(y_resampled.value_counts())"
   ]
  },
  {
   "cell_type": "code",
   "execution_count": 14,
   "metadata": {},
   "outputs": [
    {
     "data": {
      "text/plain": [
       "RandomForestClassifier(n_estimators=300, random_state=28)"
      ]
     },
     "execution_count": 14,
     "metadata": {},
     "output_type": "execute_result"
    }
   ],
   "source": [
    "from sklearn.ensemble import RandomForestClassifier\n",
    "\n",
    "rf = RandomForestClassifier(n_estimators=300, random_state=28)\n",
    "rf.fit(x_resampled, y_resampled)"
   ]
  },
  {
   "cell_type": "code",
   "execution_count": 15,
   "metadata": {},
   "outputs": [],
   "source": [
    "test_x = test.drop(['commit', 'buggy', 'plat'], axis=1)\n",
    "test_y = test['buggy']"
   ]
  },
  {
   "cell_type": "code",
   "execution_count": 16,
   "metadata": {},
   "outputs": [
    {
     "data": {
      "text/plain": [
       "array([False, False,  True, ..., False, False, False])"
      ]
     },
     "execution_count": 16,
     "metadata": {},
     "output_type": "execute_result"
    }
   ],
   "source": [
    "predictions = rf.predict(test_x)\n",
    "predictions"
   ]
  },
  {
   "cell_type": "code",
   "execution_count": 17,
   "metadata": {},
   "outputs": [
    {
     "name": "stdout",
     "output_type": "stream",
     "text": [
      "              precision    recall  f1-score   support\n",
      "\n",
      "       False       0.96      0.94      0.95      5456\n",
      "        True       0.25      0.32      0.28       333\n",
      "\n",
      "    accuracy                           0.91      5789\n",
      "   macro avg       0.61      0.63      0.62      5789\n",
      "weighted avg       0.92      0.91      0.91      5789\n",
      "\n",
      "            pred:False  pred:True\n",
      "true:False        5141        315\n",
      "true:True          226        107\n"
     ]
    }
   ],
   "source": [
    "import numpy as np\n",
    "import pandas as pd\n",
    "from sklearn.metrics import classification_report, confusion_matrix, f1_score\n",
    "\n",
    "report = classification_report(test_y, predictions)\n",
    "unique_label = np.unique([test_y, predictions])\n",
    "cmtx = pd.DataFrame(\n",
    "    confusion_matrix(test_y, predictions, labels=unique_label), \n",
    "    index=['true:{:}'.format(x) for x in unique_label], \n",
    "    columns=['pred:{:}'.format(x) for x in unique_label]\n",
    ")\n",
    "print(report)\n",
    "print(cmtx)"
   ]
  },
  {
   "cell_type": "code",
   "execution_count": 18,
   "metadata": {},
   "outputs": [
    {
     "name": "stdout",
     "output_type": "stream",
     "text": [
      "Threshhold: 0.54; Max-Score: 0.2898134863701578\n",
      "              precision    recall  f1-score   support\n",
      "\n",
      "       False       0.96      0.95      0.95      5456\n",
      "        True       0.28      0.30      0.29       333\n",
      "\n",
      "    accuracy                           0.91      5789\n",
      "   macro avg       0.62      0.63      0.62      5789\n",
      "weighted avg       0.92      0.91      0.92      5789\n",
      "\n",
      "[[5193  263]\n",
      " [ 232  101]]\n"
     ]
    }
   ],
   "source": [
    "pred_prob = rf.predict_proba(test_x)\n",
    "\n",
    "max_score = 0\n",
    "th = 0\n",
    "\n",
    "for i in range(1, 100):\n",
    "    pred2 = (pred_prob[:,1] >= i/100)\n",
    "    score = f1_score(test_y, pred2)\n",
    "    if score > max_score:\n",
    "        max_score = score\n",
    "        th = i/100\n",
    "\n",
    "print(f'Threshhold: {th}; Max-Score: {max_score}')\n",
    "pred2 = (pred_prob[:,1] >= th)\n",
    "rep2 = classification_report(test_y, pred2)\n",
    "print(rep2)\n",
    "print(confusion_matrix(test_y, pred2))\n"
   ]
  }
 ],
 "metadata": {
  "interpreter": {
   "hash": "35383268eb5c3d6dcb072f31458c55fc8f04b9d65f74ac9a83b7c611fa0f2c7f"
  },
  "kernelspec": {
   "display_name": "Python 3.9.7 64-bit ('defi-score': conda)",
   "name": "python3"
  },
  "language_info": {
   "codemirror_mode": {
    "name": "ipython",
    "version": 3
   },
   "file_extension": ".py",
   "mimetype": "text/x-python",
   "name": "python",
   "nbconvert_exporter": "python",
   "pygments_lexer": "ipython3",
   "version": "3.9.7"
  },
  "orig_nbformat": 4
 },
 "nbformat": 4,
 "nbformat_minor": 2
}
